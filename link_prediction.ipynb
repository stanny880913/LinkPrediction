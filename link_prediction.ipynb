{
 "cells": [
  {
   "cell_type": "code",
<<<<<<< HEAD
   "execution_count": 1,
=======
   "execution_count": 10,
>>>>>>> c8ed76aacf703f80237ee66572d84e368d619697
   "metadata": {},
   "outputs": [
    {
     "name": "stdout",
     "output_type": "stream",
     "text": [
<<<<<<< HEAD
      "Collecting sklearn\n",
      "  Using cached sklearn-0.0.post4-py3-none-any.whl\n",
      "Installing collected packages: sklearn\n",
      "Successfully installed sklearn-0.0.post4\n",
      "Collecting xgboost\n",
      "  Using cached xgboost-1.7.5-py3-none-manylinux2014_x86_64.whl (200.3 MB)\n",
      "Requirement already satisfied: numpy in /home/stannyho/anaconda3/lib/python3.9/site-packages (from xgboost) (1.21.5)\n",
      "Requirement already satisfied: scipy in /home/stannyho/anaconda3/lib/python3.9/site-packages (from xgboost) (1.7.3)\n",
      "Installing collected packages: xgboost\n",
      "Successfully installed xgboost-1.7.5\n",
      "Requirement already satisfied: networkx in /home/stannyho/anaconda3/lib/python3.9/site-packages (2.7.1)\n",
      "Requirement already satisfied: pandas in /home/stannyho/anaconda3/lib/python3.9/site-packages (1.4.2)\n",
      "Requirement already satisfied: python-dateutil>=2.8.1 in /home/stannyho/anaconda3/lib/python3.9/site-packages (from pandas) (2.8.2)\n",
      "Requirement already satisfied: pytz>=2020.1 in /home/stannyho/anaconda3/lib/python3.9/site-packages (from pandas) (2021.3)\n",
      "Requirement already satisfied: numpy>=1.18.5 in /home/stannyho/anaconda3/lib/python3.9/site-packages (from pandas) (1.21.5)\n",
      "Requirement already satisfied: six>=1.5 in /home/stannyho/anaconda3/lib/python3.9/site-packages (from python-dateutil>=2.8.1->pandas) (1.16.0)\n"
=======
      "Keyring is skipped due to an exception: 'keyring.backends'\n",
      "Requirement already satisfied: sklearn in /home/stannyho/anaconda3/lib/python3.7/site-packages (0.0.post4)\n",
      "Keyring is skipped due to an exception: 'keyring.backends'\n",
      "Requirement already satisfied: xgboost in /home/stannyho/anaconda3/lib/python3.7/site-packages (1.6.2)\n",
      "Requirement already satisfied: numpy in /home/stannyho/anaconda3/lib/python3.7/site-packages (from xgboost) (1.17.0)\n",
      "Requirement already satisfied: scipy in /home/stannyho/anaconda3/lib/python3.7/site-packages (from xgboost) (1.4.1)\n",
      "Keyring is skipped due to an exception: 'keyring.backends'\n",
      "Requirement already satisfied: networkx in /home/stannyho/anaconda3/lib/python3.7/site-packages (2.4)\n",
      "Requirement already satisfied: decorator>=4.3.0 in /home/stannyho/anaconda3/lib/python3.7/site-packages (from networkx) (4.4.1)\n",
      "Keyring is skipped due to an exception: 'keyring.backends'\n",
      "Requirement already satisfied: pandas in /home/stannyho/anaconda3/lib/python3.7/site-packages (1.0.1)\n",
      "Requirement already satisfied: pytz>=2017.2 in /home/stannyho/anaconda3/lib/python3.7/site-packages (from pandas) (2019.3)\n",
      "Requirement already satisfied: python-dateutil>=2.6.1 in /home/stannyho/anaconda3/lib/python3.7/site-packages (from pandas) (2.8.1)\n",
      "Requirement already satisfied: numpy>=1.13.3 in /home/stannyho/anaconda3/lib/python3.7/site-packages (from pandas) (1.17.0)\n",
      "Requirement already satisfied: six>=1.5 in /home/stannyho/anaconda3/lib/python3.7/site-packages (from python-dateutil>=2.6.1->pandas) (1.16.0)\n"
>>>>>>> c8ed76aacf703f80237ee66572d84e368d619697
     ]
    }
   ],
   "source": [
    "# install pkg\n",
    "! pip install sklearn\n",
    "! pip install xgboost\n",
    "! pip install networkx\n",
    "! pip install pandas"
   ]
  },
  {
   "cell_type": "code",
<<<<<<< HEAD
   "execution_count": 2,
=======
   "execution_count": 11,
>>>>>>> c8ed76aacf703f80237ee66572d84e368d619697
   "metadata": {},
   "outputs": [],
   "source": [
    "# import pkg\n",
    "import csv\n",
    "import networkx as nx\n",
    "import pandas as pd\n",
    "from sklearn.model_selection import train_test_split\n",
    "from sklearn.metrics import accuracy_score\n",
    "from xgboost import XGBClassifier\n",
    "from sklearn import svm, preprocessing, metrics"
   ]
  },
  {
   "cell_type": "code",
<<<<<<< HEAD
   "execution_count": 3,
=======
   "execution_count": 12,
>>>>>>> c8ed76aacf703f80237ee66572d84e368d619697
   "metadata": {},
   "outputs": [],
   "source": [
    "# load dataset\n",
    "data = pd.read_csv('new_train_data.csv')\n",
    "\n",
    "# create grapth\n",
    "G = nx.Graph()\n",
    "G1 = nx.DiGraph()\n",
    "\n",
    "# add node\n",
    "nodes = set(data['node1']).union(set(data['node2']))\n",
    "G.add_nodes_from(nodes)\n",
    "G1.add_nodes_from(nodes)\n",
    "\n",
    "\n",
    "# add edge \n",
    "for index, row in data.iterrows():\n",
    "    G.add_edge(row['node1'], row['node2'])\n",
    "    G1.add_edge(row['node1'], row['node2'])"
   ]
  },
  {
   "cell_type": "code",
<<<<<<< HEAD
   "execution_count": 4,
=======
   "execution_count": 13,
>>>>>>> c8ed76aacf703f80237ee66572d84e368d619697
   "metadata": {},
   "outputs": [],
   "source": [
    "# split dataset\n",
    "train_edges, val_edges, train_labels, val_labels = train_test_split(\n",
    "    data[['node1', 'node2']].values, data['label'].values, test_size=0.0001)"
   ]
  },
  {
   "cell_type": "code",
<<<<<<< HEAD
   "execution_count": 5,
=======
   "execution_count": 14,
>>>>>>> c8ed76aacf703f80237ee66572d84e368d619697
   "metadata": {},
   "outputs": [],
   "source": [
    "# Extract training features \n",
    "train_features = []\n",
    "for edge in train_edges:\n",
    "\n",
    "    node1 = edge[0]\n",
    "    node2 = edge[1]\n",
    "    common_neighbors = len(list(nx.common_neighbors(G, node1, node2)))\n",
    "    \n",
    "    predicts = nx.jaccard_coefficient(G, [(node1, node2)])\n",
    "    for u, v, p in predicts:\n",
    "        jaccard_coefficient = p\n",
    "\n",
    "    predicts = nx.preferential_attachment(G, [(node1, node2)])\n",
    "    for u, v, p in predicts:\n",
    "        preferential_attachment = p\n",
    "\n",
    "    predicts = nx.resource_allocation_index(G, [(node1, node2)])\n",
    "    for u, v, p in predicts:\n",
    "        resource_allocation_index = p\n",
    "\n",
    "    train_features.append([common_neighbors, jaccard_coefficient,\n",
    "                          preferential_attachment, resource_allocation_index])\n",
    "\n"
   ]
  },
  {
   "cell_type": "code",
<<<<<<< HEAD
   "execution_count": 6,
=======
   "execution_count": 15,
>>>>>>> c8ed76aacf703f80237ee66572d84e368d619697
   "metadata": {},
   "outputs": [],
   "source": [
    "# Extract testing features \n",
    "val_features = []\n",
    "for edge in val_edges:\n",
    "    node1 = edge[0]\n",
    "    node2 = edge[1]\n",
    "    common_neighbors = len(list(nx.common_neighbors(G, node1, node2)))\n",
    "\n",
    "    indegree = (G1.in_degree(int(node1)) + G1.out_degree(int(node1))) * \\\n",
    "        (G1.in_degree(int(node2)) + G1.out_degree(int(node2)))\n",
    "    jaccard_coefficient = len(\n",
    "        list(nx.jaccard_coefficient(G, [(node1, node2)])))\n",
    "\n",
    "    predicts = nx.jaccard_coefficient(G, [(node1, node2)])\n",
    "    for u, v, p in predicts:\n",
    "        jaccard_coefficient = p\n",
    "\n",
    "    predicts = nx.preferential_attachment(G, [(node1, node2)])\n",
    "    for u, v, p in predicts:\n",
    "        preferential_attachment = p\n",
    "\n",
    "    predicts = nx.resource_allocation_index(G, [(node1, node2)])\n",
    "    for u, v, p in predicts:\n",
    "        resource_allocation_index = p\n",
    "\n",
<<<<<<< HEAD
=======
    "    predicts = nx.resource_allocation_index(G, [(node1, node2)])\n",
    "    for u, v, p in predicts:\n",
    "        resource_allocation_index = p\n",
    "\n",
    "    predicts = nx.resource_allocation_index(G, [(node1, node2)])\n",
    "    for u, v, p in predicts:\n",
    "        resource_allocation_index = p\n",
    "    predicts = nx.resource_allocation_index(G, [(node1, node2)])\n",
    "    for u, v, p in predicts:\n",
    "        resource_allocation_index = p\n",
    "        \n",
    "    predicts = nx.resource_allocation_index(G, [(node1, node2)])\n",
    "    for u, v, p in predicts:\n",
    "        resource_allocation_index = p\n",
    "\n",
    "    predicts = nx.resource_allocation_index(G, [(node1, node2)])\n",
    "    for u, v, p in predicts:\n",
    "        resource_allocation_index = p\n",
>>>>>>> c8ed76aacf703f80237ee66572d84e368d619697
    "    val_features.append([common_neighbors, jaccard_coefficient,\n",
    "                         preferential_attachment, resource_allocation_index])"
   ]
  },
  {
   "cell_type": "code",
<<<<<<< HEAD
   "execution_count": 7,
=======
   "execution_count": 16,
>>>>>>> c8ed76aacf703f80237ee66572d84e368d619697
   "metadata": {},
   "outputs": [],
   "source": [
    "# training model\n",
    "clf = XGBClassifier(n_estimators=100, learning_rate=0.1)\n",
    "\n",
    "clf.fit(train_features, train_labels)\n",
    "\n",
    "# predicts test dataset\n",
    "test_predicts=clf.predict(val_features)\n",
    "\n",
    "# caculate accuracy \n",
    "accuracy=accuracy_score(val_labels, test_predicts)\n"
   ]
  },
  {
   "cell_type": "code",
<<<<<<< HEAD
   "execution_count": 8,
=======
   "execution_count": 17,
>>>>>>> c8ed76aacf703f80237ee66572d84e368d619697
   "metadata": {},
   "outputs": [
    {
     "name": "stdout",
     "output_type": "stream",
     "text": [
      "Accuracy: 0.6666666666666666\n",
      "[1 0 1 ... 1 0 0]\n",
<<<<<<< HEAD
      "3336\n"
=======
      "3332\n"
>>>>>>> c8ed76aacf703f80237ee66572d84e368d619697
     ]
    }
   ],
   "source": [
    "\n",
    "for row in enumerate(list(val_edges)):\n",
    "    if train_labels[row[0]] == 1:\n",
    "        G.add_edge(row[1][0], train_edges[1][1])\n",
    "        G1.add_edge(row[1][0], train_edges[1][1])\n",
    "\n",
    "# do test data\n",
    "data1 = pd.read_csv('new_test_data.csv')\n",
    "val_edges1 = data1[['node1', 'node2']].values\n",
    "\n",
    "nodes1 = set(data1['node1']).union(set(data1['node2']))\n",
    "G.add_nodes_from(nodes1)\n",
    "G1.add_nodes_from(nodes1)\n",
    "\n",
    "for index, row in data1.iterrows():\n",
    "    G.add_edge(row['node1'], row['node2'])\n",
    "    G1.add_edge(row['node1'], row['node2'])\n",
    "\n",
    "val_features1 = []\n",
    "for node in val_edges1:\n",
    "    node1 = node[0]\n",
    "    node2 = node[1]\n",
    "    common_neighbors = len(list(nx.common_neighbors(G, node1, node2)))\n",
    "\n",
    "    indegree = (G1.in_degree(int(node1)) + G1.out_degree(int(node1))) * \\\n",
    "        (G1.in_degree(int(node2)) + G1.out_degree(int(node2)))\n",
    "\n",
    "    predicts = nx.jaccard_coefficient(G, [(node1, node2)])\n",
    "    for u, v, p in predicts:\n",
    "        jaccard_coefficient = p\n",
    "\n",
    "    predicts = nx.preferential_attachment(G, [(node1, node2)])\n",
    "    for u, v, p in predicts:\n",
    "        preferential_attachment = p\n",
    "\n",
    "    predicts = nx.resource_allocation_index(G, [(node1, node2)])\n",
    "    for u, v, p in predicts:\n",
    "        resource_allocation_index = p\n",
    "    val_features1.append([common_neighbors, jaccard_coefficient,\n",
    "                          preferential_attachment, resource_allocation_index])\n",
    "\n",
    "\n",
    "test_predicts1 = clf.predict(val_features1)\n",
    "print('Accuracy:', accuracy)\n",
    "print(test_predicts1)\n",
    "print(sum(test_predicts1))"
   ]
  },
  {
   "cell_type": "code",
<<<<<<< HEAD
   "execution_count": 9,
=======
   "execution_count": 18,
>>>>>>> c8ed76aacf703f80237ee66572d84e368d619697
   "metadata": {},
   "outputs": [
    {
     "name": "stdout",
     "output_type": "stream",
     "text": [
      "finished\n"
     ]
    }
   ],
   "source": [
    "# generrate output\n",
    "count = 0\n",
    "n_feature = []\n",
    "for ff in val_features1:\n",
    "    ff.insert(0, count)\n",
    "    count += 1\n",
    "\n",
    "n_val_features1 = sorted(\n",
    "    val_features1, key=lambda val_features1: val_features1[3])\n",
    "n_val_features1.reverse()\n",
    "\n",
    "result = [0] * 6000\n",
    "for i in range(3000):\n",
    "    result[n_val_features1[i][0]] = 1\n",
    "\n",
    "\n",
    "output = \"ans.csv\"\n",
    "\n",
    "with open(output, 'a') as f:\n",
    "    csv_write = csv.writer(f)\n",
    "    csv_write.writerow(['node_pair_id', 'ans'])\n",
    "    index = 0\n",
    "    for i in test_predicts1:\n",
    "        csv_write.writerow([index, i])\n",
    "        index += 1\n",
    "    print(\"finished\")"
   ]
  }
 ],
 "metadata": {
  "kernelspec": {
   "display_name": "Python 3.9.12 ('base')",
   "language": "python",
   "name": "python3"
  },
  "language_info": {
   "codemirror_mode": {
    "name": "ipython",
    "version": 3
   },
   "file_extension": ".py",
   "mimetype": "text/x-python",
   "name": "python",
   "nbconvert_exporter": "python",
   "pygments_lexer": "ipython3",
   "version": "3.9.12"
  },
  "orig_nbformat": 4,
  "vscode": {
   "interpreter": {
    "hash": "dfe5e6a67e624c0e9efc6cd49e39fac0cc7b99e88da9655da3569f316f7c9d43"
   }
  }
 },
 "nbformat": 4,
 "nbformat_minor": 2
}
