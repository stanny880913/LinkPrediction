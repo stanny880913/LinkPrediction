{
 "cells": [
  {
   "cell_type": "code",
   "execution_count": 59,
   "metadata": {},
   "outputs": [
    {
     "name": "stdout",
     "output_type": "stream",
     "text": [
      "Keyring is skipped due to an exception: 'keyring.backends'\n",
      "Requirement already satisfied: sklearn in /home/stannyho/anaconda3/lib/python3.7/site-packages (0.0.post4)\n",
      "Keyring is skipped due to an exception: 'keyring.backends'\n",
      "Requirement already satisfied: xgboost in /home/stannyho/anaconda3/lib/python3.7/site-packages (1.6.2)\n",
      "Requirement already satisfied: scipy in /home/stannyho/anaconda3/lib/python3.7/site-packages (from xgboost) (1.4.1)\n",
      "Requirement already satisfied: numpy in /home/stannyho/anaconda3/lib/python3.7/site-packages (from xgboost) (1.17.0)\n",
      "Keyring is skipped due to an exception: 'keyring.backends'\n",
      "Requirement already satisfied: networkx in /home/stannyho/anaconda3/lib/python3.7/site-packages (2.4)\n",
      "Requirement already satisfied: decorator>=4.3.0 in /home/stannyho/anaconda3/lib/python3.7/site-packages (from networkx) (4.4.1)\n",
      "Keyring is skipped due to an exception: 'keyring.backends'\n",
      "Requirement already satisfied: pandas in /home/stannyho/anaconda3/lib/python3.7/site-packages (1.0.1)\n",
      "Requirement already satisfied: python-dateutil>=2.6.1 in /home/stannyho/anaconda3/lib/python3.7/site-packages (from pandas) (2.8.1)\n",
      "Requirement already satisfied: pytz>=2017.2 in /home/stannyho/anaconda3/lib/python3.7/site-packages (from pandas) (2019.3)\n",
      "Requirement already satisfied: numpy>=1.13.3 in /home/stannyho/anaconda3/lib/python3.7/site-packages (from pandas) (1.17.0)\n",
      "Requirement already satisfied: six>=1.5 in /home/stannyho/anaconda3/lib/python3.7/site-packages (from python-dateutil>=2.6.1->pandas) (1.16.0)\n"
     ]
    }
   ],
   "source": [
    "! pip install sklearn\n",
    "! pip install xgboost\n",
    "! pip install networkx\n",
    "! pip install pandas"
   ]
  },
  {
   "cell_type": "code",
   "execution_count": 60,
   "metadata": {},
   "outputs": [],
   "source": [
    "import csv\n",
    "import networkx as nx\n",
    "import pandas as pd\n",
    "from sklearn.model_selection import train_test_split\n",
    "from sklearn.metrics import accuracy_score\n",
    "from xgboost import XGBClassifier\n",
    "from sklearn import svm, preprocessing, metrics"
   ]
  },
  {
   "cell_type": "code",
   "execution_count": 61,
   "metadata": {},
   "outputs": [],
   "source": [
    "# 讀取CSV檔\n",
    "df = pd.read_csv('new_train_data.csv')\n",
    "\n",
    "# 建立有向圖\n",
    "G = nx.Graph()\n",
    "G1 = nx.DiGraph()\n",
    "\n",
    "# 加入節點\n",
    "nodes = set(df['node1']).union(set(df['node2']))\n",
    "G.add_nodes_from(nodes)\n",
    "G1.add_nodes_from(nodes)\n",
    "\n",
    "\n",
    "# 加入邊\n",
    "for index, row in df.iterrows():\n",
    "    # if row['label'] == 1:\n",
    "    G.add_edge(row['node1'], row['node2'])\n",
    "    G1.add_edge(row['node1'], row['node2'])"
   ]
  },
  {
   "cell_type": "code",
   "execution_count": 62,
   "metadata": {},
   "outputs": [],
   "source": [
    "# 分割訓練集和測試集\n",
    "train_edges, val_edges, train_labels, val_labels = train_test_split(\n",
    "    df[['node1', 'node2']].values, df['label'].values, test_size=0.01)"
   ]
  },
  {
   "cell_type": "code",
   "execution_count": 63,
   "metadata": {},
   "outputs": [],
   "source": [
    "# 提取特徵向量\n",
    "train_features = []\n",
    "for edge in train_edges:\n",
    "\n",
    "    node1 = edge[0]\n",
    "    node2 = edge[1]\n",
    "    #print(node1,' ----- ', node2)\n",
    "    common_neighbors = len(list(nx.common_neighbors(G, node1, node2)))\n",
    "\n",
    "    # try:\n",
    "    #     # 可能引發異常的程式碼\n",
    "    #     shortest_path = len(nx.shortest_path(G1, node1, node2))\n",
    "    # except:\n",
    "    #     # 異常處理的程式碼\n",
    "    #     shortest_path = 1000000\n",
    "    # indegree = (G1.in_degree(int(node1)) + G1.out_degree(int(node1))) * \\\n",
    "    #     (G1.in_degree(int(node2)) + G1.out_degree(int(node2)))\n",
    "    preds = nx.jaccard_coefficient(G, [(node1, node2)])\n",
    "    for u, v, p in preds:\n",
    "        jaccard_coefficient = p\n",
    "\n",
    "    preds = nx.preferential_attachment(G, [(node1, node2)])\n",
    "    for u, v, p in preds:\n",
    "        preferential_attachment = p\n",
    "\n",
    "    preds = nx.resource_allocation_index(G, [(node1, node2)])\n",
    "    for u, v, p in preds:\n",
    "        resource_allocation_index = p\n",
    "\n",
    "    train_features.append([common_neighbors, jaccard_coefficient,\n",
    "                          preferential_attachment, resource_allocation_index])\n",
    "    #train_features.append([common_neighbors, jaccard_coefficient, indegree, shortest_path])"
   ]
  },
  {
   "cell_type": "code",
   "execution_count": 64,
   "metadata": {},
   "outputs": [],
   "source": [
    "test_features = []\n",
    "for edge in val_edges:\n",
    "    node1 = edge[0]\n",
    "    node2 = edge[1]\n",
    "    common_neighbors = len(list(nx.common_neighbors(G, node1, node2)))\n",
    "    # try:\n",
    "    #     # 可能引發異常的程式碼\n",
    "    #     shortest_path = len(nx.shortest_path(G1, node1, node2))\n",
    "    # except:\n",
    "    #     # 異常處理的程式碼\n",
    "    #     shortest_path = 1000000\n",
    "\n",
    "    indegree = (G1.in_degree(int(node1)) + G1.out_degree(int(node1))) * \\\n",
    "        (G1.in_degree(int(node2)) + G1.out_degree(int(node2)))\n",
    "    jaccard_coefficient = len(\n",
    "        list(nx.jaccard_coefficient(G, [(node1, node2)])))\n",
    "    preds = nx.jaccard_coefficient(G, [(node1, node2)])\n",
    "    for u, v, p in preds:\n",
    "        jaccard_coefficient = p\n",
    "\n",
    "    preds = nx.preferential_attachment(G, [(node1, node2)])\n",
    "    for u, v, p in preds:\n",
    "        preferential_attachment = p\n",
    "\n",
    "    preds = nx.resource_allocation_index(G, [(node1, node2)])\n",
    "    for u, v, p in preds:\n",
    "        resource_allocation_index = p\n",
    "    test_features.append([common_neighbors, jaccard_coefficient,\n",
    "                         preferential_attachment, resource_allocation_index])\n",
    "    #test_features.append([common_neighbors, jaccard_coefficient, indegree, shortest_path])"
   ]
  },
  {
   "cell_type": "code",
   "execution_count": 65,
   "metadata": {},
   "outputs": [],
   "source": [
    "# 訓練模型\n",
    "clf = XGBClassifier(n_estimators=100, learning_rate=0.2)\n",
    "clf.fit(train_features, train_labels)\n",
    "\n",
    "# 預測測試集\n",
    "test_preds = clf.predict(test_features)\n",
    "\n",
    "# 計算準確率\n",
    "accuracy = accuracy_score(val_labels, test_preds)\n"
   ]
  },
  {
   "cell_type": "code",
   "execution_count": 66,
   "metadata": {},
   "outputs": [
    {
     "name": "stdout",
     "output_type": "stream",
     "text": [
      "Accuracy: 0.6791666666666667\n",
      "[1 0 1 ... 1 0 0]\n",
      "3274\n"
     ]
    }
   ],
   "source": [
    "for row in enumerate(list(val_edges)):\n",
    "    if train_labels[row[0]] == 1:\n",
    "        G.add_edge(row[1][0], train_edges[1][1])\n",
    "        G1.add_edge(row[1][0], train_edges[1][1])\n",
    "\n",
    "\n",
    "df1 = pd.read_csv('new_test_data.csv')\n",
    "val_edges1 = df1[['node1', 'node2']].values\n",
    "\n",
    "nodes1 = set(df1['node1']).union(set(df1['node2']))\n",
    "G.add_nodes_from(nodes1)\n",
    "G1.add_nodes_from(nodes1)\n",
    "\n",
    "for index, row in df1.iterrows():\n",
    "    G.add_edge(row['node1'], row['node2'])\n",
    "    G1.add_edge(row['node1'], row['node2'])\n",
    "\n",
    "test_features1 = []\n",
    "for node in val_edges1:\n",
    "    node1 = node[0]\n",
    "    node2 = node[1]\n",
    "    common_neighbors = len(list(nx.common_neighbors(G, node1, node2)))\n",
    "    # try:\n",
    "    #     # 可能引發異常的程式碼\n",
    "    #     shortest_path = len(nx.shortest_path(G1, node1, node2))\n",
    "    # except:\n",
    "    #     # 異常處理的程式碼\n",
    "    #     shortest_path = 1000000\n",
    "    indegree = (G1.in_degree(int(node1)) + G1.out_degree(int(node1))) * \\\n",
    "        (G1.in_degree(int(node2)) + G1.out_degree(int(node2)))\n",
    "    # print(common_neighbors)\n",
    "    preds = nx.jaccard_coefficient(G, [(node1, node2)])\n",
    "    for u, v, p in preds:\n",
    "        jaccard_coefficient = p\n",
    "\n",
    "    preds = nx.preferential_attachment(G, [(node1, node2)])\n",
    "    for u, v, p in preds:\n",
    "        preferential_attachment = p\n",
    "\n",
    "    preds = nx.resource_allocation_index(G, [(node1, node2)])\n",
    "    for u, v, p in preds:\n",
    "        resource_allocation_index = p\n",
    "    test_features1.append([common_neighbors, jaccard_coefficient,\n",
    "                          preferential_attachment, resource_allocation_index])\n",
    "    #test_features1.append([common_neighbors, jaccard_coefficient, indegree, shortest_path])\n",
    "\n",
    "\n",
    "test_preds1 = clf.predict(test_features1)\n",
    "print('Accuracy:', accuracy)\n",
    "print(test_preds1)\n",
    "print(sum(test_preds1))"
   ]
  },
  {
   "cell_type": "code",
   "execution_count": 67,
   "metadata": {},
   "outputs": [
    {
     "name": "stdout",
     "output_type": "stream",
     "text": [
      "finished\n"
     ]
    }
   ],
   "source": [
    "count = 0\n",
    "n_feature = []\n",
    "for ff in test_features1:\n",
    "    ff.insert(0, count)\n",
    "    count += 1\n",
    "\n",
    "n_test_features1 = sorted(\n",
    "    test_features1, key=lambda test_features1: test_features1[3])\n",
    "n_test_features1.reverse()\n",
    "\n",
    "result = [0] * 6000\n",
    "for i in range(3000):\n",
    "    result[n_test_features1[i][0]] = 1\n",
    "\n",
    "\n",
    "output = \"ans.csv\"\n",
    "\n",
    "with open(output, 'a') as f:\n",
    "    csv_write = csv.writer(f)\n",
    "    csv_write.writerow(['node_pair_id', 'ans'])\n",
    "    index = 0\n",
    "    for i in test_preds1:\n",
    "        csv_write.writerow([index, i])\n",
    "        index += 1\n",
    "    print(\"finished\")"
   ]
  }
 ],
 "metadata": {
  "kernelspec": {
   "display_name": "base",
   "language": "python",
   "name": "python3"
  },
  "language_info": {
   "codemirror_mode": {
    "name": "ipython",
    "version": 3
   },
   "file_extension": ".py",
   "mimetype": "text/x-python",
   "name": "python",
   "nbconvert_exporter": "python",
   "pygments_lexer": "ipython3",
   "version": "3.7.6"
  },
  "orig_nbformat": 4
 },
 "nbformat": 4,
 "nbformat_minor": 2
}
