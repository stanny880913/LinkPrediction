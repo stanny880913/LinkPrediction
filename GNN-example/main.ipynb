{
 "cells": [
  {
   "cell_type": "markdown",
   "id": "35842550-07a9-4d96-8050-e806c6acfabc",
   "metadata": {},
   "source": [
    "# 載入資料"
   ]
  },
  {
   "cell_type": "code",
   "execution_count": 1,
   "id": "32fe60d6-3e1b-40fc-b4fa-17a649cae143",
   "metadata": {
    "tags": []
   },
   "outputs": [],
   "source": [
    "import pandas as pd\n",
    "\n",
    "data_path = \"/home/stannyho/Downloads/link_pre/new_train_data.txt\"\n",
    "\n",
    "with open(data_path, \"r\") as f:\n",
    "    all_txt_str = f.read().split(\"\\n\")\n",
    "    txt_list = [txt_str.split(\"\\t\") for txt_str in all_txt_str[4:]]\n",
    "    edge_df = pd.DataFrame(txt_list, columns=[\"node1\",\"node2\",\"label\"])"
   ]
  },
  {
   "cell_type": "code",
   "execution_count": 2,
   "id": "1c6aff3a-ac24-49bc-8558-554a5778866f",
   "metadata": {},
   "outputs": [
    {
     "data": {
      "text/html": [
       "<div>\n",
       "<style scoped>\n",
       "    .dataframe tbody tr th:only-of-type {\n",
       "        vertical-align: middle;\n",
       "    }\n",
       "\n",
       "    .dataframe tbody tr th {\n",
       "        vertical-align: top;\n",
       "    }\n",
       "\n",
       "    .dataframe thead th {\n",
       "        text-align: right;\n",
       "    }\n",
       "</style>\n",
       "<table border=\"1\" class=\"dataframe\">\n",
       "  <thead>\n",
       "    <tr style=\"text-align: right;\">\n",
       "      <th></th>\n",
       "      <th>node1</th>\n",
       "      <th>node2</th>\n",
       "      <th>label</th>\n",
       "    </tr>\n",
       "  </thead>\n",
       "  <tbody>\n",
       "    <tr>\n",
       "      <th>0</th>\n",
       "      <td>38000</td>\n",
       "      <td>38145</td>\n",
       "      <td>1</td>\n",
       "    </tr>\n",
       "    <tr>\n",
       "      <th>1</th>\n",
       "      <td>37109</td>\n",
       "      <td>8452</td>\n",
       "      <td>0</td>\n",
       "    </tr>\n",
       "    <tr>\n",
       "      <th>2</th>\n",
       "      <td>18794</td>\n",
       "      <td>22228</td>\n",
       "      <td>0</td>\n",
       "    </tr>\n",
       "    <tr>\n",
       "      <th>3</th>\n",
       "      <td>38041</td>\n",
       "      <td>38100</td>\n",
       "      <td>1</td>\n",
       "    </tr>\n",
       "    <tr>\n",
       "      <th>4</th>\n",
       "      <td>38517</td>\n",
       "      <td>38602</td>\n",
       "      <td>1</td>\n",
       "    </tr>\n",
       "    <tr>\n",
       "      <th>...</th>\n",
       "      <td>...</td>\n",
       "      <td>...</td>\n",
       "      <td>...</td>\n",
       "    </tr>\n",
       "    <tr>\n",
       "      <th>23992</th>\n",
       "      <td>28115</td>\n",
       "      <td>28124</td>\n",
       "      <td>1</td>\n",
       "    </tr>\n",
       "    <tr>\n",
       "      <th>23993</th>\n",
       "      <td>38135</td>\n",
       "      <td>38141</td>\n",
       "      <td>1</td>\n",
       "    </tr>\n",
       "    <tr>\n",
       "      <th>23994</th>\n",
       "      <td>3970</td>\n",
       "      <td>38226</td>\n",
       "      <td>0</td>\n",
       "    </tr>\n",
       "    <tr>\n",
       "      <th>23995</th>\n",
       "      <td>11727</td>\n",
       "      <td>38264</td>\n",
       "      <td>0</td>\n",
       "    </tr>\n",
       "    <tr>\n",
       "      <th>23996</th>\n",
       "      <td>22201</td>\n",
       "      <td>38859</td>\n",
       "      <td>0</td>\n",
       "    </tr>\n",
       "  </tbody>\n",
       "</table>\n",
       "<p>23997 rows × 3 columns</p>\n",
       "</div>"
      ],
      "text/plain": [
       "       node1  node2 label\n",
       "0      38000  38145     1\n",
       "1      37109   8452     0\n",
       "2      18794  22228     0\n",
       "3      38041  38100     1\n",
       "4      38517  38602     1\n",
       "...      ...    ...   ...\n",
       "23992  28115  28124     1\n",
       "23993  38135  38141     1\n",
       "23994   3970  38226     0\n",
       "23995  11727  38264     0\n",
       "23996  22201  38859     0\n",
       "\n",
       "[23997 rows x 3 columns]"
      ]
     },
     "execution_count": 2,
     "metadata": {},
     "output_type": "execute_result"
    }
   ],
   "source": [
    "edge_df = edge_df.dropna()\n",
    "edge_df"
   ]
  },
  {
   "cell_type": "markdown",
   "id": "a4f58796-a4c5-4c9f-afe6-50903cb4e4f8",
   "metadata": {},
   "source": [
    "## 前處理+選出資料"
   ]
  },
  {
   "cell_type": "code",
   "execution_count": 3,
   "id": "354fa95f-32b5-4697-9fb3-427662ac0c2d",
   "metadata": {},
   "outputs": [],
   "source": [
    "edge_df[\"node1\"] = edge_df[\"node1\"].apply(int)\n",
    "edge_df[\"node2\"] = edge_df[\"node2\"].apply(int)\n",
    "edge_df[\"label\"] = edge_df[\"label\"].map({\"1\":1, \"0\":0})"
   ]
  },
  {
   "cell_type": "code",
   "execution_count": 4,
   "id": "61f5c83d-a59f-4415-85c9-232ae1bc9dd4",
   "metadata": {},
   "outputs": [
    {
     "data": {
      "text/plain": [
       "0.5000208359378255"
      ]
     },
     "execution_count": 4,
     "metadata": {},
     "output_type": "execute_result"
    }
   ],
   "source": [
    "edge_df[\"label\"].mean()"
   ]
  },
  {
   "cell_type": "code",
   "execution_count": 5,
   "id": "7c1a8cc1-762f-4b90-a624-e6eafbc0a033",
   "metadata": {},
   "outputs": [],
   "source": [
    "label0_df = edge_df[edge_df[\"label\"]==0]\n",
    "node_set = set(label0_df[\"node2\"])|set(label0_df[\"node1\"])\n",
    "choose_df = edge_df[\n",
    "    edge_df[\"node1\"].isin(node_set)&edge_df[\"node2\"].isin(node_set)\n",
    "]"
   ]
  },
  {
   "cell_type": "code",
   "execution_count": 6,
   "id": "c1fa389f-a83c-421e-be16-c0fdf75870ec",
   "metadata": {},
   "outputs": [
    {
     "data": {
      "text/plain": [
       "0.42405913978494625"
      ]
     },
     "execution_count": 6,
     "metadata": {},
     "output_type": "execute_result"
    }
   ],
   "source": [
    "choose_df[\"label\"].mean()"
   ]
  },
  {
   "cell_type": "code",
   "execution_count": 7,
   "id": "51e599e5",
   "metadata": {},
   "outputs": [
    {
     "name": "stdout",
     "output_type": "stream",
     "text": [
      "Requirement already satisfied: torch in /home/stannyho/anaconda3/lib/python3.9/site-packages (2.0.0)\n",
      "Requirement already satisfied: nvidia-curand-cu11==10.2.10.91 in /home/stannyho/anaconda3/lib/python3.9/site-packages (from torch) (10.2.10.91)\n",
      "Requirement already satisfied: triton==2.0.0 in /home/stannyho/anaconda3/lib/python3.9/site-packages (from torch) (2.0.0)\n",
      "Requirement already satisfied: jinja2 in /home/stannyho/anaconda3/lib/python3.9/site-packages (from torch) (2.11.3)\n",
      "Requirement already satisfied: nvidia-cublas-cu11==11.10.3.66 in /home/stannyho/anaconda3/lib/python3.9/site-packages (from torch) (11.10.3.66)\n",
      "Requirement already satisfied: nvidia-cuda-nvrtc-cu11==11.7.99 in /home/stannyho/anaconda3/lib/python3.9/site-packages (from torch) (11.7.99)\n",
      "Requirement already satisfied: nvidia-cufft-cu11==10.9.0.58 in /home/stannyho/anaconda3/lib/python3.9/site-packages (from torch) (10.9.0.58)\n",
      "Requirement already satisfied: nvidia-cusparse-cu11==11.7.4.91 in /home/stannyho/anaconda3/lib/python3.9/site-packages (from torch) (11.7.4.91)\n",
      "Requirement already satisfied: nvidia-nccl-cu11==2.14.3 in /home/stannyho/anaconda3/lib/python3.9/site-packages (from torch) (2.14.3)\n",
      "Requirement already satisfied: nvidia-nvtx-cu11==11.7.91 in /home/stannyho/anaconda3/lib/python3.9/site-packages (from torch) (11.7.91)\n",
      "Requirement already satisfied: nvidia-cusolver-cu11==11.4.0.1 in /home/stannyho/anaconda3/lib/python3.9/site-packages (from torch) (11.4.0.1)\n",
      "Requirement already satisfied: nvidia-cuda-cupti-cu11==11.7.101 in /home/stannyho/anaconda3/lib/python3.9/site-packages (from torch) (11.7.101)\n",
      "Requirement already satisfied: nvidia-cuda-runtime-cu11==11.7.99 in /home/stannyho/anaconda3/lib/python3.9/site-packages (from torch) (11.7.99)\n",
      "Requirement already satisfied: sympy in /home/stannyho/anaconda3/lib/python3.9/site-packages (from torch) (1.10.1)\n",
      "Requirement already satisfied: filelock in /home/stannyho/anaconda3/lib/python3.9/site-packages (from torch) (3.6.0)\n",
      "Requirement already satisfied: networkx in /home/stannyho/anaconda3/lib/python3.9/site-packages (from torch) (2.7.1)\n",
      "Requirement already satisfied: nvidia-cudnn-cu11==8.5.0.96 in /home/stannyho/anaconda3/lib/python3.9/site-packages (from torch) (8.5.0.96)\n",
      "Requirement already satisfied: typing-extensions in /home/stannyho/anaconda3/lib/python3.9/site-packages (from torch) (4.1.1)\n",
      "Requirement already satisfied: setuptools in /home/stannyho/anaconda3/lib/python3.9/site-packages (from nvidia-cublas-cu11==11.10.3.66->torch) (61.2.0)\n",
      "Requirement already satisfied: wheel in /home/stannyho/anaconda3/lib/python3.9/site-packages (from nvidia-cublas-cu11==11.10.3.66->torch) (0.37.1)\n",
      "Requirement already satisfied: lit in /home/stannyho/anaconda3/lib/python3.9/site-packages (from triton==2.0.0->torch) (16.0.2)\n",
      "Requirement already satisfied: cmake in /home/stannyho/anaconda3/lib/python3.9/site-packages (from triton==2.0.0->torch) (3.26.3)\n",
      "Requirement already satisfied: MarkupSafe>=0.23 in /home/stannyho/anaconda3/lib/python3.9/site-packages (from jinja2->torch) (2.0.1)\n",
      "Requirement already satisfied: mpmath>=0.19 in /home/stannyho/anaconda3/lib/python3.9/site-packages (from sympy->torch) (1.2.1)\n"
     ]
    }
   ],
   "source": [
    "! pip install torch"
   ]
  },
  {
   "cell_type": "markdown",
   "id": "e00a22a4-bc47-4095-b0e9-f58c9f9bf6a1",
   "metadata": {},
   "source": [
    "# 轉成tensor"
   ]
  },
  {
   "cell_type": "code",
   "execution_count": 8,
   "id": "15e97498-4401-4288-9c96-c98d5f6b7aa8",
   "metadata": {},
   "outputs": [],
   "source": [
    "import torch as th\n",
    "\n",
    "class IdEncoder:\n",
    "    def __init__(self, NodeName_set):\n",
    "        self.NodeId_dict = {\n",
    "            NodeName: idx for idx, NodeName in enumerate(sorted(NodeName_set))\n",
    "        }\n",
    "\n",
    "    def __len__(self):\n",
    "        return len(self.NodeId_dict)\n",
    "\n",
    "    @property\n",
    "    def NodeName_set(self):\n",
    "        return set(self.NodeId_dict.keys())\n",
    "\n",
    "    @property\n",
    "    def max_id(self):\n",
    "        return max(self.NodeId_dict.values())\n",
    "\n",
    "    @property\n",
    "    def IdNode_dict(self):\n",
    "        return {idx:NodeName for NodeName, idx in self.NodeId_dict.items()}\n",
    "\n",
    "    def node_to_id(self, node):\n",
    "        return self.NodeId_dict.get(node)\n",
    "\n",
    "    def id_to_node(self, id):\n",
    "        for NodeName, idx in self.NodeId_dict.items():\n",
    "            if idx==id: return NodeName\n",
    "        return None\n",
    "\n",
    "    def update(self, NodeName_set):\n",
    "        NewNodeName_set = NodeName_set - self.NodeName_set\n",
    "        max_id = self.max_id\n",
    "        self.NodeId_dict.update({\n",
    "            NodeName: idx+max_id\n",
    "            for idx, NodeName in enumerate(sorted(NewNodeName_set))\n",
    "        })\n"
   ]
  },
  {
   "cell_type": "code",
   "execution_count": 9,
   "id": "65600996-5744-4009-a477-26fc6e839e70",
   "metadata": {},
   "outputs": [],
   "source": [
    "encode = IdEncoder(node_set)"
   ]
  },
  {
   "cell_type": "code",
   "execution_count": 10,
   "id": "d4d1c1dd-4ae5-4f25-b9f5-a72d1a9ce9cc",
   "metadata": {},
   "outputs": [],
   "source": [
    "from_list = choose_df[\"node1\"].map(encode.NodeId_dict).tolist()\n",
    "to_list = choose_df[\"node2\"].map(encode.NodeId_dict).tolist()\n",
    "label_list = choose_df[\"label\"].tolist()"
   ]
  },
  {
   "cell_type": "code",
   "execution_count": 11,
   "id": "ae0177dc-93c3-4629-b71c-09acf0fde3e3",
   "metadata": {},
   "outputs": [],
   "source": [
    "node_attr_ts = th.ones(len(encode)).float().reshape(-1, 1)\n",
    "edge_index_ts = th.tensor([from_list, to_list]).long()\n",
    "edge_label_ts = th.tensor(label_list).float().reshape(-1, 1)"
   ]
  },
  {
   "cell_type": "markdown",
   "id": "c204ee5e-2d2a-4e42-b290-cd10416408e1",
   "metadata": {},
   "source": [
    "# 製作graph"
   ]
  },
  {
   "cell_type": "code",
   "execution_count": 12,
   "id": "8e47c2a5",
   "metadata": {},
   "outputs": [
    {
     "name": "stdout",
     "output_type": "stream",
     "text": [
      "Requirement already satisfied: torch_geometric in /home/stannyho/anaconda3/lib/python3.9/site-packages (2.3.0)\n",
      "Requirement already satisfied: requests in /home/stannyho/anaconda3/lib/python3.9/site-packages (from torch_geometric) (2.27.1)\n",
      "Requirement already satisfied: scipy in /home/stannyho/anaconda3/lib/python3.9/site-packages (from torch_geometric) (1.7.3)\n",
      "Requirement already satisfied: tqdm in /home/stannyho/anaconda3/lib/python3.9/site-packages (from torch_geometric) (4.64.0)\n",
      "Requirement already satisfied: scikit-learn in /home/stannyho/anaconda3/lib/python3.9/site-packages (from torch_geometric) (1.0.2)\n",
      "Requirement already satisfied: jinja2 in /home/stannyho/anaconda3/lib/python3.9/site-packages (from torch_geometric) (2.11.3)\n",
      "Requirement already satisfied: numpy in /home/stannyho/anaconda3/lib/python3.9/site-packages (from torch_geometric) (1.21.5)\n",
      "Requirement already satisfied: pyparsing in /home/stannyho/anaconda3/lib/python3.9/site-packages (from torch_geometric) (3.0.4)\n",
      "Requirement already satisfied: psutil>=5.8.0 in /home/stannyho/anaconda3/lib/python3.9/site-packages (from torch_geometric) (5.8.0)\n",
      "Requirement already satisfied: MarkupSafe>=0.23 in /home/stannyho/anaconda3/lib/python3.9/site-packages (from jinja2->torch_geometric) (2.0.1)\n",
      "Requirement already satisfied: urllib3<1.27,>=1.21.1 in /home/stannyho/anaconda3/lib/python3.9/site-packages (from requests->torch_geometric) (1.26.9)\n",
      "Requirement already satisfied: idna<4,>=2.5 in /home/stannyho/anaconda3/lib/python3.9/site-packages (from requests->torch_geometric) (3.3)\n",
      "Requirement already satisfied: certifi>=2017.4.17 in /home/stannyho/anaconda3/lib/python3.9/site-packages (from requests->torch_geometric) (2021.10.8)\n",
      "Requirement already satisfied: charset-normalizer~=2.0.0 in /home/stannyho/anaconda3/lib/python3.9/site-packages (from requests->torch_geometric) (2.0.4)\n",
      "Requirement already satisfied: joblib>=0.11 in /home/stannyho/anaconda3/lib/python3.9/site-packages (from scikit-learn->torch_geometric) (1.1.0)\n",
      "Requirement already satisfied: threadpoolctl>=2.0.0 in /home/stannyho/anaconda3/lib/python3.9/site-packages (from scikit-learn->torch_geometric) (2.2.0)\n"
     ]
    }
   ],
   "source": [
    "! pip install torch_geometric"
   ]
  },
  {
   "cell_type": "code",
   "execution_count": 13,
   "id": "69f3e86c-3c60-47a9-8d33-aae8ecda39da",
   "metadata": {},
   "outputs": [],
   "source": [
    "from torch_geometric.data import Data\n",
    "\n",
    "data = Data(x=node_attr_ts, edge_index=edge_index_ts, edge_attr=edge_label_ts, edge_label=edge_label_ts)"
   ]
  },
  {
   "cell_type": "code",
   "execution_count": 14,
   "id": "a0acd1cb-0d43-4cb6-8e7d-66a30fb1f52e",
   "metadata": {},
   "outputs": [
    {
     "data": {
      "text/plain": [
       "Data(x=[7769, 1], edge_index=[2, 20832], edge_attr=[20832, 1], edge_label=[20832, 1])"
      ]
     },
     "execution_count": 14,
     "metadata": {},
     "output_type": "execute_result"
    }
   ],
   "source": [
    "data"
   ]
  },
  {
   "cell_type": "code",
   "execution_count": 15,
   "id": "f9fc9f99-5034-4618-99e3-2934cb58bfba",
   "metadata": {},
   "outputs": [],
   "source": [
    "from torch_geometric.transforms import RandomLinkSplit\n",
    "\n",
    "train_data, val_data, test_data = RandomLinkSplit(\n",
    "    num_val=0.1,\n",
    "    num_test=0.1,\n",
    "    is_undirected=False,\n",
    "    neg_sampling_ratio=0.0,\n",
    "    disjoint_train_ratio=0.2,\n",
    ")(data)"
   ]
  },
  {
   "cell_type": "code",
   "execution_count": 16,
   "id": "9abd9ffd-5970-4cdb-8f0d-e9d9b951119e",
   "metadata": {},
   "outputs": [
    {
     "data": {
      "text/plain": [
       "Data(x=[7769, 1], edge_index=[2, 20832], edge_attr=[20832, 1], edge_label=[20832, 1])"
      ]
     },
     "execution_count": 16,
     "metadata": {},
     "output_type": "execute_result"
    }
   ],
   "source": [
    "data"
   ]
  },
  {
   "cell_type": "markdown",
   "id": "98dea15b-40b5-4fd3-8921-4f816a37ee6a",
   "metadata": {},
   "source": [
    "# 建立模型"
   ]
  },
  {
   "cell_type": "code",
   "execution_count": 17,
   "id": "1c9ebd19-26f3-4f9d-a3c0-7ca460c0d7c4",
   "metadata": {},
   "outputs": [],
   "source": [
    "from torch_geometric.nn import GATv2Conv\n",
    "from torch_geometric.nn.dense import Linear\n",
    "\n",
    "class GATEncoder(th.nn.Module):\n",
    "    def __init__(self, encoder_size):\n",
    "        super().__init__()\n",
    "\n",
    "        hidden_channels, out_channels = encoder_size\n",
    "        self.conv1 = GATv2Conv(\n",
    "            (-1, -1), hidden_channels, edge_dim=1, add_self_loops=False\n",
    "        )\n",
    "        self.lin1 = Linear(-1, hidden_channels)\n",
    "        self.conv2 = GATv2Conv(\n",
    "            (-1, -1), out_channels, edge_dim=1, add_self_loops=False\n",
    "        )\n",
    "        self.lin2 = Linear(-1, out_channels)\n",
    "        self.conv3 = GATv2Conv(\n",
    "            (-1, -1), out_channels, edge_dim=1, add_self_loops=False\n",
    "        )\n",
    "        self.lin3 = Linear(-1, out_channels)\n",
    "        self.conv4 = GATv2Conv(\n",
    "            (-1, -1), out_channels, edge_dim=1, add_self_loops=False\n",
    "        )\n",
    "        self.lin4 = Linear(-1, out_channels)\n",
    "\n",
    "    def forward(self, x, edge_index, edge_attr):\n",
    "        x = self.conv1(x, edge_index, edge_attr) + self.lin1(x)\n",
    "        x = x.relu()\n",
    "        x = self.conv2(x, edge_index, edge_attr) + self.lin2(x)\n",
    "        x = x.relu()\n",
    "        x = self.conv3(x, edge_index, edge_attr) + self.lin3(x)\n",
    "        x = x.relu()\n",
    "        x = self.conv4(x, edge_index, edge_attr) + self.lin4(x)\n",
    "        x = x.relu()\n",
    "        return x\n",
    "\n",
    "class EdgeDecoder(th.nn.Module):\n",
    "\n",
    "    def __init__(self, decoder_size):\n",
    "        super().__init__()\n",
    "        hidden_channels = decoder_size\n",
    "        self.lin1 = Linear(-1, hidden_channels)\n",
    "        self.lin2 = Linear(-1, 1)\n",
    "\n",
    "    def forward(self, NodeConvH_ts, edge_label_index):\n",
    "        from_ts, to_ts = edge_label_index\n",
    "        NodeH_ts = th.cat([NodeConvH_ts[from_ts], NodeConvH_ts[to_ts]], dim=-1)\n",
    "        x = self.lin1(NodeH_ts).relu()\n",
    "        x = self.lin2(x).sigmoid()\n",
    "        return x\n",
    "\n",
    "class GNN(th.nn.Module):\n",
    "    def __init__(self, encoder_size, decoder_size):\n",
    "        super().__init__()\n",
    "        self.encoder = GATEncoder(encoder_size)\n",
    "        self.decoder = EdgeDecoder(decoder_size)\n",
    "\n",
    "    def forward(self, x, edge_index, edge_attr, edge_label_index):\n",
    "        NodeConvH_ts = self.encoder(x, edge_index, edge_attr)\n",
    "        return self.decoder(NodeConvH_ts, edge_label_index)\n"
   ]
  },
  {
   "cell_type": "markdown",
   "id": "fea79639-53da-4dea-99f8-9a2609772e21",
   "metadata": {},
   "source": [
    "## 試跑一下"
   ]
  },
  {
   "cell_type": "code",
   "execution_count": 18,
   "id": "9224ad69-9c1e-41ba-9aef-d44411cb7332",
   "metadata": {
    "tags": []
   },
   "outputs": [
    {
     "data": {
      "text/plain": [
       "tensor([[0.5200],\n",
       "        [0.5269],\n",
       "        [0.5237],\n",
       "        ...,\n",
       "        [0.5394],\n",
       "        [0.5415],\n",
       "        [0.5398]], grad_fn=<SigmoidBackward0>)"
      ]
     },
     "execution_count": 18,
     "metadata": {},
     "output_type": "execute_result"
    }
   ],
   "source": [
    "model = GNN((4, 12), 12)\n",
    "edge_pred = model(\n",
    "    x=train_data.x,\n",
    "    edge_index=train_data.edge_index,\n",
    "    edge_attr=train_data.edge_attr,\n",
    "    edge_label_index=train_data.edge_label_index\n",
    ")\n",
    "\n",
    "edge_pred"
   ]
  },
  {
   "cell_type": "code",
   "execution_count": 19,
   "id": "60f200c4-b28a-4a0e-9198-9dcdc12b1124",
   "metadata": {},
   "outputs": [
    {
     "data": {
      "text/plain": [
       "tensor([[0.],\n",
       "        [1.],\n",
       "        [1.],\n",
       "        ...,\n",
       "        [1.],\n",
       "        [0.],\n",
       "        [0.]])"
      ]
     },
     "execution_count": 19,
     "metadata": {},
     "output_type": "execute_result"
    }
   ],
   "source": [
    "edge_label = train_data.edge_label.reshape(-1, 1)\n",
    "edge_label"
   ]
  },
  {
   "cell_type": "code",
   "execution_count": 20,
   "id": "e981e0ea-2ca1-4316-80c3-1af5b2a4f858",
   "metadata": {},
   "outputs": [
    {
     "data": {
      "text/plain": [
       "tensor(0.7018, grad_fn=<BinaryCrossEntropyBackward0>)"
      ]
     },
     "execution_count": 20,
     "metadata": {},
     "output_type": "execute_result"
    }
   ],
   "source": [
    "import torch.nn.functional as F\n",
    "\n",
    "F.binary_cross_entropy(edge_pred, edge_label)"
   ]
  },
  {
   "cell_type": "markdown",
   "id": "6fee664f-bba7-4f58-aa1b-744706016ca3",
   "metadata": {},
   "source": [
    "# 訓練"
   ]
  },
  {
   "cell_type": "code",
   "execution_count": 21,
   "id": "9c3572bc-ebba-450d-9b5d-93b625a71c0d",
   "metadata": {},
   "outputs": [],
   "source": [
    "\n",
    "def get_pred(data, model):\n",
    "    return model(\n",
    "        x=data.x,\n",
    "        edge_index=data.edge_index,\n",
    "        edge_attr=data.edge_attr,\n",
    "        edge_label_index=data.edge_label_index\n",
    "    )\n",
    "\n",
    "@th.no_grad()\n",
    "def get_pred_no_grad(data, model):\n",
    "    return model(\n",
    "        x=data.x,\n",
    "        edge_index=data.edge_index,\n",
    "        edge_attr=data.edge_attr,\n",
    "        edge_label_index=data.edge_label_index\n",
    "    )\n",
    "\n",
    "@th.no_grad()\n",
    "def get_loss_in_eval(data, model):\n",
    "    model.eval()\n",
    "    pred = get_pred_no_grad(data, model)\n",
    "    target = data.edge_label.reshape(-1, 1)\n",
    "    loss = F.binary_cross_entropy(pred, target)\n",
    "    return loss\n",
    "\n",
    "def get_loss(data, model):\n",
    "    pred = get_pred(data, model)\n",
    "    target = data.edge_label.reshape(-1, 1)\n",
    "    loss = F.binary_cross_entropy(pred, target)\n",
    "    return loss"
   ]
  },
  {
   "cell_type": "code",
   "execution_count": 22,
   "id": "d95d3200",
   "metadata": {},
   "outputs": [
    {
     "name": "stdout",
     "output_type": "stream",
     "text": [
      "Requirement already satisfied: pytorchtools in /home/stannyho/anaconda3/lib/python3.9/site-packages (0.0.2)\n"
     ]
    }
   ],
   "source": [
    "! pip install pytorchtools"
   ]
  },
  {
   "cell_type": "code",
   "execution_count": 23,
   "id": "cc619083-60c4-4ec2-aacf-da5502a5c35b",
   "metadata": {},
   "outputs": [],
   "source": [
    "from pytorchtools import EarlyStopping\n",
    "\n",
    "model = GNN((4, 6), 12)\n",
    "# model = th.load(\"checkpoint.pt\")\n",
    "optimizer = th.optim.Adam(model.parameters(), lr=0.01, weight_decay=1e-3)\n",
    "scheduler = th.optim.lr_scheduler.ReduceLROnPlateau(optimizer, 'min')\n",
    "early_stopping = EarlyStopping(patience=30, verbose=False)"
   ]
  },
  {
   "cell_type": "code",
   "execution_count": 24,
   "id": "651a0f7e-6834-4238-9456-6998ba10c8a9",
   "metadata": {
    "collapsed": true,
    "jupyter": {
     "outputs_hidden": true
    },
    "tags": []
   },
   "outputs": [
    {
     "name": "stdout",
     "output_type": "stream",
     "text": [
      "Epoch: 000, Loss: 0.6856, val_Loss: 0.6818\n",
      "Epoch: 001, Loss: 0.6822, val_Loss: 0.6793\n",
      "Epoch: 002, Loss: 0.6796, val_Loss: 0.6774\n",
      "Epoch: 003, Loss: 0.6776, val_Loss: 0.6756\n",
      "Epoch: 004, Loss: 0.6756, val_Loss: 0.6742\n",
      "Epoch: 005, Loss: 0.6738, val_Loss: 0.6729\n",
      "Epoch: 006, Loss: 0.6720, val_Loss: 0.6715\n",
      "Epoch: 007, Loss: 0.6702, val_Loss: 0.6700\n",
      "Epoch: 008, Loss: 0.6683, val_Loss: 0.6682\n",
      "Epoch: 009, Loss: 0.6663, val_Loss: 0.6662\n",
      "Epoch: 010, Loss: 0.6643, val_Loss: 0.6644\n",
      "Epoch: 011, Loss: 0.6624, val_Loss: 0.6628\n",
      "Epoch: 012, Loss: 0.6603, val_Loss: 0.6610\n",
      "Epoch: 013, Loss: 0.6580, val_Loss: 0.6590\n",
      "Epoch: 014, Loss: 0.6555, val_Loss: 0.6566\n",
      "Epoch: 015, Loss: 0.6529, val_Loss: 0.6545\n",
      "Epoch: 016, Loss: 0.6503, val_Loss: 0.6527\n",
      "Epoch: 017, Loss: 0.6478, val_Loss: 0.6510\n",
      "Epoch: 018, Loss: 0.6453, val_Loss: 0.6494\n",
      "Epoch: 019, Loss: 0.6429, val_Loss: 0.6477\n",
      "Epoch: 020, Loss: 0.6406, val_Loss: 0.6458\n",
      "Epoch: 021, Loss: 0.6384, val_Loss: 0.6447\n",
      "Epoch: 022, Loss: 0.6364, val_Loss: 0.6437\n",
      "Epoch: 023, Loss: 0.6345, val_Loss: 0.6420\n",
      "Epoch: 024, Loss: 0.6327, val_Loss: 0.6413\n",
      "Epoch: 025, Loss: 0.6308, val_Loss: 0.6400\n",
      "Epoch: 026, Loss: 0.6289, val_Loss: 0.6379\n",
      "Epoch: 027, Loss: 0.6269, val_Loss: 0.6362\n",
      "Epoch: 028, Loss: 0.6250, val_Loss: 0.6348\n",
      "Epoch: 029, Loss: 0.6233, val_Loss: 0.6343\n",
      "Epoch: 030, Loss: 0.6216, val_Loss: 0.6309\n",
      "EarlyStopping counter: 1 out of 30\n",
      "Epoch: 031, Loss: 0.6203, val_Loss: 0.6342\n",
      "Epoch: 032, Loss: 0.6193, val_Loss: 0.6286\n",
      "Epoch: 033, Loss: 0.6181, val_Loss: 0.6279\n",
      "EarlyStopping counter: 1 out of 30\n",
      "Epoch: 034, Loss: 0.6180, val_Loss: 0.6304\n",
      "EarlyStopping counter: 2 out of 30\n",
      "Epoch: 035, Loss: 0.6174, val_Loss: 0.6297\n",
      "Epoch: 036, Loss: 0.6171, val_Loss: 0.6272\n",
      "EarlyStopping counter: 1 out of 30\n",
      "Epoch: 037, Loss: 0.6171, val_Loss: 0.6282\n",
      "EarlyStopping counter: 2 out of 30\n",
      "Epoch: 038, Loss: 0.6164, val_Loss: 0.6312\n",
      "EarlyStopping counter: 3 out of 30\n",
      "Epoch: 039, Loss: 0.6167, val_Loss: 0.6284\n",
      "EarlyStopping counter: 4 out of 30\n",
      "Epoch: 040, Loss: 0.6163, val_Loss: 0.6284\n",
      "EarlyStopping counter: 5 out of 30\n",
      "Epoch: 041, Loss: 0.6163, val_Loss: 0.6306\n",
      "EarlyStopping counter: 6 out of 30\n",
      "Epoch: 042, Loss: 0.6161, val_Loss: 0.6298\n",
      "EarlyStopping counter: 7 out of 30\n",
      "Epoch: 043, Loss: 0.6158, val_Loss: 0.6278\n",
      "EarlyStopping counter: 8 out of 30\n",
      "Epoch: 044, Loss: 0.6158, val_Loss: 0.6290\n",
      "EarlyStopping counter: 9 out of 30\n",
      "Epoch: 045, Loss: 0.6153, val_Loss: 0.6298\n",
      "EarlyStopping counter: 10 out of 30\n",
      "Epoch: 046, Loss: 0.6154, val_Loss: 0.6275\n",
      "EarlyStopping counter: 11 out of 30\n",
      "Epoch: 047, Loss: 0.6153, val_Loss: 0.6278\n",
      "EarlyStopping counter: 12 out of 30\n",
      "Epoch: 048, Loss: 0.6151, val_Loss: 0.6295\n",
      "EarlyStopping counter: 13 out of 30\n",
      "Epoch: 049, Loss: 0.6150, val_Loss: 0.6288\n",
      "EarlyStopping counter: 14 out of 30\n",
      "Epoch: 050, Loss: 0.6148, val_Loss: 0.6276\n",
      "EarlyStopping counter: 15 out of 30\n",
      "Epoch: 051, Loss: 0.6148, val_Loss: 0.6281\n",
      "EarlyStopping counter: 16 out of 30\n",
      "Epoch: 052, Loss: 0.6146, val_Loss: 0.6294\n",
      "EarlyStopping counter: 17 out of 30\n",
      "Epoch: 053, Loss: 0.6145, val_Loss: 0.6283\n",
      "EarlyStopping counter: 18 out of 30\n",
      "Epoch: 054, Loss: 0.6142, val_Loss: 0.6274\n",
      "EarlyStopping counter: 19 out of 30\n",
      "Epoch: 055, Loss: 0.6143, val_Loss: 0.6288\n",
      "EarlyStopping counter: 20 out of 30\n",
      "Epoch: 056, Loss: 0.6142, val_Loss: 0.6285\n",
      "EarlyStopping counter: 21 out of 30\n",
      "Epoch: 057, Loss: 0.6139, val_Loss: 0.6277\n",
      "EarlyStopping counter: 22 out of 30\n",
      "Epoch: 058, Loss: 0.6139, val_Loss: 0.6285\n",
      "EarlyStopping counter: 23 out of 30\n",
      "Epoch: 059, Loss: 0.6137, val_Loss: 0.6290\n",
      "EarlyStopping counter: 24 out of 30\n",
      "Epoch: 060, Loss: 0.6137, val_Loss: 0.6279\n",
      "EarlyStopping counter: 25 out of 30\n",
      "Epoch: 061, Loss: 0.6134, val_Loss: 0.6277\n",
      "EarlyStopping counter: 26 out of 30\n",
      "Epoch: 062, Loss: 0.6132, val_Loss: 0.6287\n",
      "EarlyStopping counter: 27 out of 30\n",
      "Epoch: 063, Loss: 0.6131, val_Loss: 0.6274\n",
      "EarlyStopping counter: 28 out of 30\n",
      "Epoch: 064, Loss: 0.6129, val_Loss: 0.6274\n",
      "EarlyStopping counter: 29 out of 30\n",
      "Epoch: 065, Loss: 0.6127, val_Loss: 0.6281\n",
      "EarlyStopping counter: 30 out of 30\n",
      "Early stopping\n"
     ]
    }
   ],
   "source": [
    "\n",
    "trainLoss_list = []\n",
    "valLoss_list = []\n",
    "\n",
    "for epoch in range(0, 2000):\n",
    "    model.train()\n",
    "    optimizer.zero_grad()\n",
    "\n",
    "    train_loss = get_loss(train_data, model)\n",
    "    train_loss.backward()\n",
    "\n",
    "    optimizer.step()\n",
    "    scheduler.step(train_loss)\n",
    "\n",
    "    val_loss = get_loss_in_eval(val_data, model)\n",
    "\n",
    "    trainLoss_list.append(train_loss.detach().numpy())\n",
    "    valLoss_list.append(val_loss.detach().numpy())\n",
    "\n",
    "    early_stopping(val_loss, model)\n",
    "\n",
    "    if early_stopping.early_stop:\n",
    "        print(\"Early stopping\")\n",
    "        break\n",
    "\n",
    "    print(f'Epoch: {epoch:03d}, Loss: {train_loss:.4f}, val_Loss: {val_loss:.4f}')"
   ]
  },
  {
   "cell_type": "code",
   "execution_count": 25,
   "id": "4a2ee005-b081-4228-8d89-b80daa178441",
   "metadata": {},
   "outputs": [
    {
     "data": {
      "image/png": "[encoded data removed]",
      "text/plain": [
       "<Figure size 432x288 with 1 Axes>"
      ]
     },
     "metadata": {
      "needs_background": "light"
     },
     "output_type": "display_data"
    }
   ],
   "source": [
    "import matplotlib.pyplot as plt\n",
    "\n",
    "plt.plot(trainLoss_list, label='train')\n",
    "plt.plot(valLoss_list, label='val')\n",
    "plt.legend()\n",
    "plt.show()"
   ]
  },
  {
   "cell_type": "code",
   "execution_count": 26,
   "id": "11a2a727",
   "metadata": {},
   "outputs": [],
   "source": [
    "import csv\n",
    "\n",
    "# 開啟CSV檔案\n",
    "with open('../new_test_data.csv', 'r') as csv_file:\n",
    "    # 讀取CSV檔案\n",
    "    csv_reader = csv.reader(csv_file)\n",
    "    \n",
    "    # 開啟TXT檔案\n",
    "    with open('./new_test_data.txt', 'w') as txt_file:\n",
    "        # 寫入TXT檔案\n",
    "        for row in csv_reader:\n",
    "            txt_file.write(' '.join(row) + '\\n')\n"
   ]
  },
  {
   "cell_type": "markdown",
   "id": "10e5f7c6-0a4d-4d38-9186-e7d7f5fd0f8a",
   "metadata": {},
   "source": [
    "# 測試"
   ]
  },
  {
   "cell_type": "code",
   "execution_count": 27,
   "id": "c29c0d83",
   "metadata": {},
   "outputs": [
    {
     "name": "stdout",
     "output_type": "stream",
     "text": [
      "     node_pair_id  node1  node2\n",
      "0               0  40963  40966\n",
      "1               1   4544  49357\n",
      "2               2  38726  38760\n",
      "3               3   4636  38678\n",
      "4               4  26789   5842\n",
      "...           ...    ...    ...\n",
      "5995         5995  28930  16004\n",
      "5996         5996  10247  22013\n",
      "5997         5997  22854  26234\n",
      "5998         5998  38127  38215\n",
      "5999         5999   1064  23907\n",
      "\n",
      "[6000 rows x 3 columns]\n",
      "Data(x=[7769, 1], edge_index=[2, 20832], edge_attr=[20832, 1], edge_label=[20832, 1])\n"
     ]
    },
    {
     "ename": "AttributeError",
     "evalue": "'GlobalStorage' object has no attribute 'edge_label_index'",
     "output_type": "error",
     "traceback": [
      "\u001b[0;31m---------------------------------------------------------------------------\u001b[0m",
      "\u001b[0;31mKeyError\u001b[0m                                  Traceback (most recent call last)",
      "File \u001b[0;32m~/anaconda3/lib/python3.9/site-packages/torch_geometric/data/storage.py:78\u001b[0m, in \u001b[0;36mBaseStorage.__getattr__\u001b[0;34m(self, key)\u001b[0m\n\u001b[1;32m     77\u001b[0m \u001b[39mtry\u001b[39;00m:\n\u001b[0;32m---> 78\u001b[0m     \u001b[39mreturn\u001b[39;00m \u001b[39mself\u001b[39;49m[key]\n\u001b[1;32m     79\u001b[0m \u001b[39mexcept\u001b[39;00m \u001b[39mKeyError\u001b[39;00m:\n",
      "File \u001b[0;32m~/anaconda3/lib/python3.9/site-packages/torch_geometric/data/storage.py:103\u001b[0m, in \u001b[0;36mBaseStorage.__getitem__\u001b[0;34m(self, key)\u001b[0m\n\u001b[1;32m    102\u001b[0m \u001b[39mdef\u001b[39;00m \u001b[39m__getitem__\u001b[39m(\u001b[39mself\u001b[39m, key: \u001b[39mstr\u001b[39m) \u001b[39m-\u001b[39m\u001b[39m>\u001b[39m Any:\n\u001b[0;32m--> 103\u001b[0m     \u001b[39mreturn\u001b[39;00m \u001b[39mself\u001b[39;49m\u001b[39m.\u001b[39;49m_mapping[key]\n",
      "\u001b[0;31mKeyError\u001b[0m: 'edge_label_index'",
      "\nDuring handling of the above exception, another exception occurred:\n",
      "\u001b[0;31mAttributeError\u001b[0m                            Traceback (most recent call last)",
      "\u001b[1;32m/home/stannyho/Downloads/link_pre/GNN-example/main.ipynb Cell 35\u001b[0m in \u001b[0;36m<cell line: 34>\u001b[0;34m()\u001b[0m\n\u001b[1;32m     <a href='vscode-notebook-cell:/home/stannyho/Downloads/link_pre/GNN-example/main.ipynb#X46sZmlsZQ%3D%3D?line=30'>31</a>\u001b[0m model \u001b[39m=\u001b[39m torch\u001b[39m.\u001b[39mload(\u001b[39m\"\u001b[39m\u001b[39mcheckpoint.pt\u001b[39m\u001b[39m\"\u001b[39m)\n\u001b[1;32m     <a href='vscode-notebook-cell:/home/stannyho/Downloads/link_pre/GNN-example/main.ipynb#X46sZmlsZQ%3D%3D?line=31'>32</a>\u001b[0m model\u001b[39m.\u001b[39meval()\n\u001b[0;32m---> <a href='vscode-notebook-cell:/home/stannyho/Downloads/link_pre/GNN-example/main.ipynb#X46sZmlsZQ%3D%3D?line=33'>34</a>\u001b[0m test_pred \u001b[39m=\u001b[39m get_pred_no_grad(test_data, model)\n\u001b[1;32m     <a href='vscode-notebook-cell:/home/stannyho/Downloads/link_pre/GNN-example/main.ipynb#X46sZmlsZQ%3D%3D?line=34'>35</a>\u001b[0m test_loss \u001b[39m=\u001b[39m get_loss_in_eval(test_data, model)\n\u001b[1;32m     <a href='vscode-notebook-cell:/home/stannyho/Downloads/link_pre/GNN-example/main.ipynb#X46sZmlsZQ%3D%3D?line=35'>36</a>\u001b[0m test_target \u001b[39m=\u001b[39m test_data\u001b[39m.\u001b[39medge_label\u001b[39m.\u001b[39mreshape(\u001b[39m-\u001b[39m\u001b[39m1\u001b[39m, \u001b[39m1\u001b[39m)\n",
      "File \u001b[0;32m~/anaconda3/lib/python3.9/site-packages/torch/utils/_contextlib.py:115\u001b[0m, in \u001b[0;36mcontext_decorator.<locals>.decorate_context\u001b[0;34m(*args, **kwargs)\u001b[0m\n\u001b[1;32m    112\u001b[0m \u001b[39m@functools\u001b[39m\u001b[39m.\u001b[39mwraps(func)\n\u001b[1;32m    113\u001b[0m \u001b[39mdef\u001b[39;00m \u001b[39mdecorate_context\u001b[39m(\u001b[39m*\u001b[39margs, \u001b[39m*\u001b[39m\u001b[39m*\u001b[39mkwargs):\n\u001b[1;32m    114\u001b[0m     \u001b[39mwith\u001b[39;00m ctx_factory():\n\u001b[0;32m--> 115\u001b[0m         \u001b[39mreturn\u001b[39;00m func(\u001b[39m*\u001b[39;49margs, \u001b[39m*\u001b[39;49m\u001b[39m*\u001b[39;49mkwargs)\n",
      "\u001b[1;32m/home/stannyho/Downloads/link_pre/GNN-example/main.ipynb Cell 35\u001b[0m in \u001b[0;36mget_pred_no_grad\u001b[0;34m(data, model)\u001b[0m\n\u001b[1;32m      <a href='vscode-notebook-cell:/home/stannyho/Downloads/link_pre/GNN-example/main.ipynb#X46sZmlsZQ%3D%3D?line=8'>9</a>\u001b[0m \u001b[39m@th\u001b[39m\u001b[39m.\u001b[39mno_grad()\n\u001b[1;32m     <a href='vscode-notebook-cell:/home/stannyho/Downloads/link_pre/GNN-example/main.ipynb#X46sZmlsZQ%3D%3D?line=9'>10</a>\u001b[0m \u001b[39mdef\u001b[39;00m \u001b[39mget_pred_no_grad\u001b[39m(data, model):\n\u001b[1;32m     <a href='vscode-notebook-cell:/home/stannyho/Downloads/link_pre/GNN-example/main.ipynb#X46sZmlsZQ%3D%3D?line=10'>11</a>\u001b[0m     \u001b[39mreturn\u001b[39;00m model(\n\u001b[1;32m     <a href='vscode-notebook-cell:/home/stannyho/Downloads/link_pre/GNN-example/main.ipynb#X46sZmlsZQ%3D%3D?line=11'>12</a>\u001b[0m         x\u001b[39m=\u001b[39mdata\u001b[39m.\u001b[39mx,\n\u001b[1;32m     <a href='vscode-notebook-cell:/home/stannyho/Downloads/link_pre/GNN-example/main.ipynb#X46sZmlsZQ%3D%3D?line=12'>13</a>\u001b[0m         edge_index\u001b[39m=\u001b[39mdata\u001b[39m.\u001b[39medge_index,\n\u001b[1;32m     <a href='vscode-notebook-cell:/home/stannyho/Downloads/link_pre/GNN-example/main.ipynb#X46sZmlsZQ%3D%3D?line=13'>14</a>\u001b[0m         edge_attr\u001b[39m=\u001b[39mdata\u001b[39m.\u001b[39medge_attr,\n\u001b[0;32m---> <a href='vscode-notebook-cell:/home/stannyho/Downloads/link_pre/GNN-example/main.ipynb#X46sZmlsZQ%3D%3D?line=14'>15</a>\u001b[0m         edge_label_index\u001b[39m=\u001b[39mdata\u001b[39m.\u001b[39;49medge_label_index\n\u001b[1;32m     <a href='vscode-notebook-cell:/home/stannyho/Downloads/link_pre/GNN-example/main.ipynb#X46sZmlsZQ%3D%3D?line=15'>16</a>\u001b[0m     )\n",
      "File \u001b[0;32m~/anaconda3/lib/python3.9/site-packages/torch_geometric/data/data.py:441\u001b[0m, in \u001b[0;36mData.__getattr__\u001b[0;34m(self, key)\u001b[0m\n\u001b[1;32m    435\u001b[0m \u001b[39mif\u001b[39;00m \u001b[39m'\u001b[39m\u001b[39m_store\u001b[39m\u001b[39m'\u001b[39m \u001b[39mnot\u001b[39;00m \u001b[39min\u001b[39;00m \u001b[39mself\u001b[39m\u001b[39m.\u001b[39m\u001b[39m__dict__\u001b[39m:\n\u001b[1;32m    436\u001b[0m     \u001b[39mraise\u001b[39;00m \u001b[39mRuntimeError\u001b[39;00m(\n\u001b[1;32m    437\u001b[0m         \u001b[39m\"\u001b[39m\u001b[39mThe \u001b[39m\u001b[39m'\u001b[39m\u001b[39mdata\u001b[39m\u001b[39m'\u001b[39m\u001b[39m object was created by an older version of PyG. \u001b[39m\u001b[39m\"\u001b[39m\n\u001b[1;32m    438\u001b[0m         \u001b[39m\"\u001b[39m\u001b[39mIf this error occurred while loading an already existing \u001b[39m\u001b[39m\"\u001b[39m\n\u001b[1;32m    439\u001b[0m         \u001b[39m\"\u001b[39m\u001b[39mdataset, remove the \u001b[39m\u001b[39m'\u001b[39m\u001b[39mprocessed/\u001b[39m\u001b[39m'\u001b[39m\u001b[39m directory in the dataset\u001b[39m\u001b[39m'\u001b[39m\u001b[39ms \u001b[39m\u001b[39m\"\u001b[39m\n\u001b[1;32m    440\u001b[0m         \u001b[39m\"\u001b[39m\u001b[39mroot folder and try again.\u001b[39m\u001b[39m\"\u001b[39m)\n\u001b[0;32m--> 441\u001b[0m \u001b[39mreturn\u001b[39;00m \u001b[39mgetattr\u001b[39;49m(\u001b[39mself\u001b[39;49m\u001b[39m.\u001b[39;49m_store, key)\n",
      "File \u001b[0;32m~/anaconda3/lib/python3.9/site-packages/torch_geometric/data/storage.py:80\u001b[0m, in \u001b[0;36mBaseStorage.__getattr__\u001b[0;34m(self, key)\u001b[0m\n\u001b[1;32m     78\u001b[0m     \u001b[39mreturn\u001b[39;00m \u001b[39mself\u001b[39m[key]\n\u001b[1;32m     79\u001b[0m \u001b[39mexcept\u001b[39;00m \u001b[39mKeyError\u001b[39;00m:\n\u001b[0;32m---> 80\u001b[0m     \u001b[39mraise\u001b[39;00m \u001b[39mAttributeError\u001b[39;00m(\n\u001b[1;32m     81\u001b[0m         \u001b[39mf\u001b[39m\u001b[39m\"\u001b[39m\u001b[39m'\u001b[39m\u001b[39m{\u001b[39;00m\u001b[39mself\u001b[39m\u001b[39m.\u001b[39m\u001b[39m__class__\u001b[39m\u001b[39m.\u001b[39m\u001b[39m__name__\u001b[39m\u001b[39m}\u001b[39;00m\u001b[39m'\u001b[39m\u001b[39m object has no attribute \u001b[39m\u001b[39m'\u001b[39m\u001b[39m{\u001b[39;00mkey\u001b[39m}\u001b[39;00m\u001b[39m'\u001b[39m\u001b[39m\"\u001b[39m)\n",
      "\u001b[0;31mAttributeError\u001b[0m: 'GlobalStorage' object has no attribute 'edge_label_index'"
     ]
    }
   ],
   "source": [
    "import torch\n",
    "import pandas as pd\n",
    "\n",
    "# 載入模型\n",
    "model = torch.load('checkpoint.pt')\n",
    "\n",
    "# # 讀取CSV檔案\n",
    "# data = pd.read_csv('/home/stannyho/Downloads/link_pre/new_test_data.csv')\n",
    "\n",
    "import pandas as pd\n",
    "\n",
    "data_path = \"./new_test_data.txt\"\n",
    "\n",
    "with open(data_path, \"r\") as f:\n",
    "    all_txt_str = f.read().split(\"\\n\")\n",
    "    txt_list = [txt_str.split(\" \") for txt_str in all_txt_str[1:]]\n",
    "    edge_df = pd.DataFrame(txt_list, columns=[\"node_pair_id\",\"node1\",\"node2\"])\n",
    "\n",
    "edge_df = edge_df.dropna()\n",
    "print(edge_df)\n",
    "\n",
    "\n",
    "node_attr_ts = th.ones(len(encode)).float().reshape(-1, 1)\n",
    "edge_index_ts = th.tensor([from_list, to_list]).long()\n",
    "from torch_geometric.data import Data\n",
    "\n",
    "test_data = Data(x=node_attr_ts, edge_index=edge_index_ts, edge_attr=edge_label_ts)\n",
    "\n",
    "print(data)\n",
    "\n",
    "model = torch.load(\"checkpoint.pt\")\n",
    "model.eval()\n",
    "\n",
    "test_pred = get_pred_no_grad(test_data, model)\n",
    "test_loss = get_loss_in_eval(test_data, model)\n",
    "test_target = test_data.edge_label.reshape(-1, 1)\n",
    "test_accuracy = th.mean(((test_pred>0.5)==test_target).float())\n",
    "\n",
    "print(test_target)\n",
    "# # 進行預測\n",
    "# with torch.no_grad():\n",
    "#     y_pred_tensor = model(edge_index_ts, node_attr_ts, edge_label_ts)\n",
    "\n",
    "# # 將預測結果轉換回DataFrame\n",
    "# y_pred = pd.DataFrame(y_pred_tensor.numpy(), columns=['predicted_target'])\n",
    "\n",
    "# # 合併預測結果到原始資料中\n",
    "# result = pd.concat([data, y_pred], axis=1)\n",
    "\n",
    "# # 輸出成新的CSV檔案\n",
    "# result.to_csv('2.csv', index=False)"
   ]
  },
  {
   "cell_type": "markdown",
   "id": "40238c8f",
   "metadata": {},
   "source": []
  }
 ],
 "metadata": {
  "kernelspec": {
   "display_name": "Python 3.9.12 ('base')",
   "language": "python",
   "name": "python3"
  },
  "language_info": {
   "codemirror_mode": {
    "name": "ipython",
    "version": 3
   },
   "file_extension": ".py",
   "mimetype": "text/x-python",
   "name": "python",
   "nbconvert_exporter": "python",
   "pygments_lexer": "ipython3",
   "version": "3.9.12"
  },
  "vscode": {
   "interpreter": {
    "hash": "dfe5e6a67e624c0e9efc6cd49e39fac0cc7b99e88da9655da3569f316f7c9d43"
   }
  }
 },
 "nbformat": 4,
 "nbformat_minor": 5
}
