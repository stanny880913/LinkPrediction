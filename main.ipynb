{
 "cells": [
  {
   "cell_type": "markdown",
   "id": "35842550-07a9-4d96-8050-e806c6acfabc",
   "metadata": {},
   "source": [
    "# 載入資料"
   ]
  },
  {
   "cell_type": "code",
   "execution_count": null,
   "id": "32fe60d6-3e1b-40fc-b4fa-17a649cae143",
   "metadata": {
    "tags": []
   },
   "outputs": [],
   "source": [
    "import pandas as pd\n",
    "\n",
    "data_path = \"/home/stannyho/Downloads/link_pre/new_train_data.txt\"\n",
    "\n",
    "with open(data_path, \"r\") as f:\n",
    "    all_txt_str = f.read().split(\"\\n\")\n",
    "    txt_list = [txt_str.split(\"\\t\") for txt_str in all_txt_str[4:]]\n",
    "    edge_df = pd.DataFrame(txt_list, columns=[\"node1\",\"node2\",\"label\"])"
   ]
  },
  {
   "cell_type": "code",
   "execution_count": null,
   "id": "1c6aff3a-ac24-49bc-8558-554a5778866f",
   "metadata": {},
   "outputs": [],
   "source": [
    "edge_df = edge_df.dropna()\n",
    "edge_df"
   ]
  },
  {
   "cell_type": "markdown",
   "id": "a4f58796-a4c5-4c9f-afe6-50903cb4e4f8",
   "metadata": {},
   "source": [
    "## 前處理+選出資料"
   ]
  },
  {
   "cell_type": "code",
   "execution_count": null,
   "id": "354fa95f-32b5-4697-9fb3-427662ac0c2d",
   "metadata": {},
   "outputs": [],
   "source": [
    "edge_df[\"node1\"] = edge_df[\"node1\"].apply(int)\n",
    "edge_df[\"node2\"] = edge_df[\"node2\"].apply(int)\n",
    "edge_df[\"label\"] = edge_df[\"label\"].map({\"1\":1, \"0\":0})"
   ]
  },
  {
   "cell_type": "code",
   "execution_count": null,
   "id": "61f5c83d-a59f-4415-85c9-232ae1bc9dd4",
   "metadata": {},
   "outputs": [],
   "source": [
    "edge_df[\"label\"].mean()"
   ]
  },
  {
   "cell_type": "code",
   "execution_count": null,
   "id": "7c1a8cc1-762f-4b90-a624-e6eafbc0a033",
   "metadata": {},
   "outputs": [],
   "source": [
    "label0_df = edge_df[edge_df[\"label\"]==0]\n",
    "node_set = set(label0_df[\"node2\"])|set(label0_df[\"node1\"])\n",
    "choose_df = edge_df[\n",
    "    edge_df[\"node1\"].isin(node_set)&edge_df[\"node2\"].isin(node_set)\n",
    "]"
   ]
  },
  {
   "cell_type": "code",
   "execution_count": null,
   "id": "c1fa389f-a83c-421e-be16-c0fdf75870ec",
   "metadata": {},
   "outputs": [],
   "source": [
    "choose_df[\"label\"].mean()"
   ]
  },
  {
   "cell_type": "code",
   "execution_count": null,
   "id": "51e599e5",
   "metadata": {},
   "outputs": [],
   "source": [
    "! pip install torch"
   ]
  },
  {
   "cell_type": "markdown",
   "id": "e00a22a4-bc47-4095-b0e9-f58c9f9bf6a1",
   "metadata": {},
   "source": [
    "# 轉成tensor"
   ]
  },
  {
   "cell_type": "code",
   "execution_count": null,
   "id": "15e97498-4401-4288-9c96-c98d5f6b7aa8",
   "metadata": {},
   "outputs": [],
   "source": [
    "import torch as th\n",
    "\n",
    "class IdEncoder:\n",
    "    def __init__(self, NodeName_set):\n",
    "        self.NodeId_dict = {\n",
    "            NodeName: idx for idx, NodeName in enumerate(sorted(NodeName_set))\n",
    "        }\n",
    "\n",
    "    def __len__(self):\n",
    "        return len(self.NodeId_dict)\n",
    "\n",
    "    @property\n",
    "    def NodeName_set(self):\n",
    "        return set(self.NodeId_dict.keys())\n",
    "\n",
    "    @property\n",
    "    def max_id(self):\n",
    "        return max(self.NodeId_dict.values())\n",
    "\n",
    "    @property\n",
    "    def IdNode_dict(self):\n",
    "        return {idx:NodeName for NodeName, idx in self.NodeId_dict.items()}\n",
    "\n",
    "    def node_to_id(self, node):\n",
    "        return self.NodeId_dict.get(node)\n",
    "\n",
    "    def id_to_node(self, id):\n",
    "        for NodeName, idx in self.NodeId_dict.items():\n",
    "            if idx==id: return NodeName\n",
    "        return None\n",
    "\n",
    "    def update(self, NodeName_set):\n",
    "        NewNodeName_set = NodeName_set - self.NodeName_set\n",
    "        max_id = self.max_id\n",
    "        self.NodeId_dict.update({\n",
    "            NodeName: idx+max_id\n",
    "            for idx, NodeName in enumerate(sorted(NewNodeName_set))\n",
    "        })\n"
   ]
  },
  {
   "cell_type": "code",
   "execution_count": null,
   "id": "65600996-5744-4009-a477-26fc6e839e70",
   "metadata": {},
   "outputs": [],
   "source": [
    "encode = IdEncoder(node_set)"
   ]
  },
  {
   "cell_type": "code",
   "execution_count": null,
   "id": "d4d1c1dd-4ae5-4f25-b9f5-a72d1a9ce9cc",
   "metadata": {},
   "outputs": [],
   "source": [
    "from_list = choose_df[\"node1\"].map(encode.NodeId_dict).tolist()\n",
    "to_list = choose_df[\"node2\"].map(encode.NodeId_dict).tolist()\n",
    "label_list = choose_df[\"label\"].tolist()"
   ]
  },
  {
   "cell_type": "code",
   "execution_count": null,
   "id": "ae0177dc-93c3-4629-b71c-09acf0fde3e3",
   "metadata": {},
   "outputs": [],
   "source": [
    "node_attr_ts = th.ones(len(encode)).float().reshape(-1, 1)\n",
    "edge_index_ts = th.tensor([from_list, to_list]).long()\n",
    "edge_label_ts = th.tensor(label_list).float().reshape(-1, 1)"
   ]
  },
  {
   "cell_type": "markdown",
   "id": "c204ee5e-2d2a-4e42-b290-cd10416408e1",
   "metadata": {},
   "source": [
    "# 製作graph"
   ]
  },
  {
   "cell_type": "code",
   "execution_count": null,
   "id": "8e47c2a5",
   "metadata": {},
   "outputs": [],
   "source": [
    "! pip install torch_geometric"
   ]
  },
  {
   "cell_type": "code",
   "execution_count": null,
   "id": "69f3e86c-3c60-47a9-8d33-aae8ecda39da",
   "metadata": {},
   "outputs": [],
   "source": [
    "from torch_geometric.data import Data\n",
    "\n",
    "data = Data(x=node_attr_ts, edge_index=edge_index_ts, edge_attr=edge_label_ts, edge_label=edge_label_ts)"
   ]
  },
  {
   "cell_type": "code",
   "execution_count": null,
   "id": "a0acd1cb-0d43-4cb6-8e7d-66a30fb1f52e",
   "metadata": {},
   "outputs": [],
   "source": [
    "data"
   ]
  },
  {
   "cell_type": "code",
   "execution_count": null,
   "id": "f9fc9f99-5034-4618-99e3-2934cb58bfba",
   "metadata": {},
   "outputs": [],
   "source": [
    "from torch_geometric.transforms import RandomLinkSplit\n",
    "\n",
    "train_data, val_data, test_data = RandomLinkSplit(\n",
    "    num_val=0.1,\n",
    "    num_test=0.1,\n",
    "    is_undirected=False,\n",
    "    neg_sampling_ratio=0.0,\n",
    "    disjoint_train_ratio=0.2,\n",
    ")(data)"
   ]
  },
  {
   "cell_type": "code",
   "execution_count": null,
   "id": "9abd9ffd-5970-4cdb-8f0d-e9d9b951119e",
   "metadata": {},
   "outputs": [],
   "source": [
    "data"
   ]
  },
  {
   "cell_type": "markdown",
   "id": "98dea15b-40b5-4fd3-8921-4f816a37ee6a",
   "metadata": {},
   "source": [
    "# 建立模型"
   ]
  },
  {
   "cell_type": "code",
   "execution_count": null,
   "id": "1c9ebd19-26f3-4f9d-a3c0-7ca460c0d7c4",
   "metadata": {},
   "outputs": [],
   "source": [
    "from torch_geometric.nn import GATv2Conv\n",
    "from torch_geometric.nn.dense import Linear\n",
    "\n",
    "class GATEncoder(th.nn.Module):\n",
    "    def __init__(self, encoder_size):\n",
    "        super().__init__()\n",
    "\n",
    "        hidden_channels, out_channels = encoder_size\n",
    "        self.conv1 = GATv2Conv(\n",
    "            (-1, -1), hidden_channels, edge_dim=1, add_self_loops=False\n",
    "        )\n",
    "        self.lin1 = Linear(-1, hidden_channels)\n",
    "        self.conv2 = GATv2Conv(\n",
    "            (-1, -1), out_channels, edge_dim=1, add_self_loops=False\n",
    "        )\n",
    "        self.lin2 = Linear(-1, out_channels)\n",
    "        self.conv3 = GATv2Conv(\n",
    "            (-1, -1), out_channels, edge_dim=1, add_self_loops=False\n",
    "        )\n",
    "        self.lin3 = Linear(-1, out_channels)\n",
    "        self.conv4 = GATv2Conv(\n",
    "            (-1, -1), out_channels, edge_dim=1, add_self_loops=False\n",
    "        )\n",
    "        self.lin4 = Linear(-1, out_channels)\n",
    "\n",
    "    def forward(self, x, edge_index, edge_attr):\n",
    "        x = self.conv1(x, edge_index, edge_attr) + self.lin1(x)\n",
    "        x = x.relu()\n",
    "        x = self.conv2(x, edge_index, edge_attr) + self.lin2(x)\n",
    "        x = x.relu()\n",
    "        x = self.conv3(x, edge_index, edge_attr) + self.lin3(x)\n",
    "        x = x.relu()\n",
    "        x = self.conv4(x, edge_index, edge_attr) + self.lin4(x)\n",
    "        x = x.relu()\n",
    "        return x\n",
    "\n",
    "class EdgeDecoder(th.nn.Module):\n",
    "\n",
    "    def __init__(self, decoder_size):\n",
    "        super().__init__()\n",
    "        hidden_channels = decoder_size\n",
    "        self.lin1 = Linear(-1, hidden_channels)\n",
    "        self.lin2 = Linear(-1, 1)\n",
    "\n",
    "    def forward(self, NodeConvH_ts, edge_label_index):\n",
    "        from_ts, to_ts = edge_label_index\n",
    "        NodeH_ts = th.cat([NodeConvH_ts[from_ts], NodeConvH_ts[to_ts]], dim=-1)\n",
    "        x = self.lin1(NodeH_ts).relu()\n",
    "        x = self.lin2(x).sigmoid()\n",
    "        return x\n",
    "\n",
    "class GNN(th.nn.Module):\n",
    "    def __init__(self, encoder_size, decoder_size):\n",
    "        super().__init__()\n",
    "        self.encoder = GATEncoder(encoder_size)\n",
    "        self.decoder = EdgeDecoder(decoder_size)\n",
    "\n",
    "    def forward(self, x, edge_index, edge_attr, edge_label_index):\n",
    "        NodeConvH_ts = self.encoder(x, edge_index, edge_attr)\n",
    "        return self.decoder(NodeConvH_ts, edge_label_index)\n"
   ]
  },
  {
   "cell_type": "markdown",
   "id": "fea79639-53da-4dea-99f8-9a2609772e21",
   "metadata": {},
   "source": [
    "## 試跑一下"
   ]
  },
  {
   "cell_type": "code",
   "execution_count": 311,
   "id": "9224ad69-9c1e-41ba-9aef-d44411cb7332",
   "metadata": {
    "tags": []
   },
   "outputs": [
    {
     "data": {
      "text/plain": [
       "tensor([[0.5550],\n",
       "        [0.5355],\n",
       "        [0.5534],\n",
       "        ...,\n",
       "        [0.5618],\n",
       "        [0.5572],\n",
       "        [0.5376]], grad_fn=<SigmoidBackward0>)"
      ]
     },
     "execution_count": 311,
     "metadata": {},
     "output_type": "execute_result"
    }
   ],
   "source": [
    "model = GNN((4, 12), 12)\n",
    "edge_pred = model(\n",
    "    x=train_data.x,\n",
    "    edge_index=train_data.edge_index,\n",
    "    edge_attr=train_data.edge_attr,\n",
    "    edge_label_index=train_data.edge_label_index\n",
    ")\n",
    "\n",
    "edge_pred"
   ]
  },
  {
   "cell_type": "code",
   "execution_count": 312,
   "id": "60f200c4-b28a-4a0e-9198-9dcdc12b1124",
   "metadata": {},
   "outputs": [
    {
     "data": {
      "text/plain": [
       "tensor([[0.],\n",
       "        [0.],\n",
       "        [0.],\n",
       "        ...,\n",
       "        [0.],\n",
       "        [0.],\n",
       "        [0.]])"
      ]
     },
     "execution_count": 312,
     "metadata": {},
     "output_type": "execute_result"
    }
   ],
   "source": [
    "edge_label = train_data.edge_label.reshape(-1, 1)\n",
    "edge_label"
   ]
  },
  {
   "cell_type": "code",
   "execution_count": null,
   "id": "e981e0ea-2ca1-4316-80c3-1af5b2a4f858",
   "metadata": {},
   "outputs": [],
   "source": [
    "import torch.nn.functional as F\n",
    "\n",
    "F.binary_cross_entropy(edge_pred, edge_label)"
   ]
  },
  {
   "cell_type": "markdown",
   "id": "6fee664f-bba7-4f58-aa1b-744706016ca3",
   "metadata": {},
   "source": [
    "# 訓練"
   ]
  },
  {
   "cell_type": "code",
   "execution_count": null,
   "id": "9c3572bc-ebba-450d-9b5d-93b625a71c0d",
   "metadata": {},
   "outputs": [],
   "source": [
    "\n",
    "def get_pred(data, model):\n",
    "    return model(\n",
    "        x=data.x,\n",
    "        edge_index=data.edge_index,\n",
    "        edge_attr=data.edge_attr,\n",
    "        edge_label_index=data.edge_label_index\n",
    "    )\n",
    "\n",
    "@th.no_grad()\n",
    "def get_pred_no_grad(data, model):\n",
    "    return model(\n",
    "        x=data.x,\n",
    "        edge_index=data.edge_index,\n",
    "        edge_attr=data.edge_attr,\n",
    "        edge_label_index=data.edge_label_index\n",
    "    )\n",
    "\n",
    "@th.no_grad()\n",
    "def get_loss_in_eval(data, model):\n",
    "    model.eval()\n",
    "    pred = get_pred_no_grad(data, model)\n",
    "    target = data.edge_label.reshape(-1, 1)\n",
    "    loss = F.binary_cross_entropy(pred, target)\n",
    "    return loss\n",
    "\n",
    "def get_loss(data, model):\n",
    "    pred = get_pred(data, model)\n",
    "    target = data.edge_label.reshape(-1, 1)\n",
    "    loss = F.binary_cross_entropy(pred, target)\n",
    "    return loss"
   ]
  },
  {
   "cell_type": "code",
   "execution_count": null,
   "id": "cc619083-60c4-4ec2-aacf-da5502a5c35b",
   "metadata": {},
   "outputs": [],
   "source": [
    "from pytorchtools import EarlyStopping\n",
    "\n",
    "model = GNN((4, 6), 12)\n",
    "# model = th.load(\"checkpoint.pt\")\n",
    "optimizer = th.optim.Adam(model.parameters(), lr=0.01, weight_decay=1e-3)\n",
    "scheduler = th.optim.lr_scheduler.ReduceLROnPlateau(optimizer, 'min')\n",
    "early_stopping = EarlyStopping(patience=30, verbose=False)"
   ]
  },
  {
   "cell_type": "code",
   "execution_count": null,
   "id": "651a0f7e-6834-4238-9456-6998ba10c8a9",
   "metadata": {
    "collapsed": true,
    "jupyter": {
     "outputs_hidden": true
    },
    "tags": []
   },
   "outputs": [],
   "source": [
    "\n",
    "trainLoss_list = []\n",
    "valLoss_list = []\n",
    "\n",
    "for epoch in range(0, 2000):\n",
    "    model.train()\n",
    "    optimizer.zero_grad()\n",
    "\n",
    "    train_loss = get_loss(train_data, model)\n",
    "    train_loss.backward()\n",
    "\n",
    "    optimizer.step()\n",
    "    scheduler.step(train_loss)\n",
    "\n",
    "    val_loss = get_loss_in_eval(val_data, model)\n",
    "\n",
    "    trainLoss_list.append(train_loss.detach().numpy())\n",
    "    valLoss_list.append(val_loss.detach().numpy())\n",
    "\n",
    "    early_stopping(val_loss, model)\n",
    "\n",
    "    if early_stopping.early_stop:\n",
    "        print(\"Early stopping\")\n",
    "        break\n",
    "\n",
    "    print(f'Epoch: {epoch:03d}, Loss: {train_loss:.4f}, val_Loss: {val_loss:.4f}')"
   ]
  },
  {
   "cell_type": "code",
   "execution_count": null,
   "id": "4a2ee005-b081-4228-8d89-b80daa178441",
   "metadata": {},
   "outputs": [],
   "source": [
    "import matplotlib.pyplot as plt\n",
    "\n",
    "plt.plot(trainLoss_list, label='train')\n",
    "plt.plot(valLoss_list, label='val')\n",
    "plt.legend()\n",
    "plt.show()"
   ]
  },
  {
   "cell_type": "code",
   "execution_count": null,
   "id": "11a2a727",
   "metadata": {},
   "outputs": [],
   "source": [
    "import csv\n",
    "\n",
    "# 開啟CSV檔案\n",
    "with open('../new_test_data.csv', 'r') as csv_file:\n",
    "    # 讀取CSV檔案\n",
    "    csv_reader = csv.reader(csv_file)\n",
    "    \n",
    "    # 開啟TXT檔案\n",
    "    with open('./new_test_data.txt', 'w') as txt_file:\n",
    "        # 寫入TXT檔案\n",
    "        for row in csv_reader:\n",
    "            txt_file.write(' '.join(row) + '\\n')\n"
   ]
  },
  {
   "cell_type": "markdown",
   "id": "10e5f7c6-0a4d-4d38-9186-e7d7f5fd0f8a",
   "metadata": {},
   "source": [
    "# 測試"
   ]
  },
  {
   "cell_type": "code",
   "execution_count": 316,
   "id": "c29c0d83",
   "metadata": {},
   "outputs": [
    {
     "name": "stdout",
     "output_type": "stream",
     "text": [
      "     node_pair_id  node1  node2\n",
      "0               0  40963  40966\n",
      "1               1   4544  49357\n",
      "2               2  38726  38760\n",
      "3               3   4636  38678\n",
      "4               4  26789   5842\n",
      "...           ...    ...    ...\n",
      "5995         5995  28930  16004\n",
      "5996         5996  10247  22013\n",
      "5997         5997  22854  26234\n",
      "5998         5998  38127  38215\n",
      "5999         5999   1064  23907\n",
      "\n",
      "[6000 rows x 3 columns]\n",
      "Data(x=[7769, 1], edge_index=[2, 20832], edge_attr=[20832, 1], edge_label=[20832, 1])\n"
     ]
    },
    {
     "ename": "AttributeError",
     "evalue": "'GlobalStorage' object has no attribute 'edge_label_index'",
     "output_type": "error",
     "traceback": [
      "\u001b[0;31m---------------------------------------------------------------------------\u001b[0m",
      "\u001b[0;31mKeyError\u001b[0m                                  Traceback (most recent call last)",
      "File \u001b[0;32m~/anaconda3/lib/python3.9/site-packages/torch_geometric/data/storage.py:78\u001b[0m, in \u001b[0;36mBaseStorage.__getattr__\u001b[0;34m(self, key)\u001b[0m\n\u001b[1;32m     77\u001b[0m \u001b[39mtry\u001b[39;00m:\n\u001b[0;32m---> 78\u001b[0m     \u001b[39mreturn\u001b[39;00m \u001b[39mself\u001b[39;49m[key]\n\u001b[1;32m     79\u001b[0m \u001b[39mexcept\u001b[39;00m \u001b[39mKeyError\u001b[39;00m:\n",
      "File \u001b[0;32m~/anaconda3/lib/python3.9/site-packages/torch_geometric/data/storage.py:103\u001b[0m, in \u001b[0;36mBaseStorage.__getitem__\u001b[0;34m(self, key)\u001b[0m\n\u001b[1;32m    102\u001b[0m \u001b[39mdef\u001b[39;00m \u001b[39m__getitem__\u001b[39m(\u001b[39mself\u001b[39m, key: \u001b[39mstr\u001b[39m) \u001b[39m-\u001b[39m\u001b[39m>\u001b[39m Any:\n\u001b[0;32m--> 103\u001b[0m     \u001b[39mreturn\u001b[39;00m \u001b[39mself\u001b[39;49m\u001b[39m.\u001b[39;49m_mapping[key]\n",
      "\u001b[0;31mKeyError\u001b[0m: 'edge_label_index'",
      "\nDuring handling of the above exception, another exception occurred:\n",
      "\u001b[0;31mAttributeError\u001b[0m                            Traceback (most recent call last)",
      "\u001b[1;32m/home/stannyho/Downloads/link_pre/GNN-example/examples_are_here.ipynb Cell 34\u001b[0m in \u001b[0;36m<cell line: 34>\u001b[0;34m()\u001b[0m\n\u001b[1;32m     <a href='vscode-notebook-cell:/home/stannyho/Downloads/link_pre/GNN-example/examples_are_here.ipynb#X62sZmlsZQ%3D%3D?line=30'>31</a>\u001b[0m model \u001b[39m=\u001b[39m torch\u001b[39m.\u001b[39mload(\u001b[39m\"\u001b[39m\u001b[39mcheckpoint.pt\u001b[39m\u001b[39m\"\u001b[39m)\n\u001b[1;32m     <a href='vscode-notebook-cell:/home/stannyho/Downloads/link_pre/GNN-example/examples_are_here.ipynb#X62sZmlsZQ%3D%3D?line=31'>32</a>\u001b[0m model\u001b[39m.\u001b[39meval()\n\u001b[0;32m---> <a href='vscode-notebook-cell:/home/stannyho/Downloads/link_pre/GNN-example/examples_are_here.ipynb#X62sZmlsZQ%3D%3D?line=33'>34</a>\u001b[0m test_pred \u001b[39m=\u001b[39m get_pred_no_grad(test_data, model)\n\u001b[1;32m     <a href='vscode-notebook-cell:/home/stannyho/Downloads/link_pre/GNN-example/examples_are_here.ipynb#X62sZmlsZQ%3D%3D?line=34'>35</a>\u001b[0m test_loss \u001b[39m=\u001b[39m get_loss_in_eval(test_data, model)\n\u001b[1;32m     <a href='vscode-notebook-cell:/home/stannyho/Downloads/link_pre/GNN-example/examples_are_here.ipynb#X62sZmlsZQ%3D%3D?line=35'>36</a>\u001b[0m test_target \u001b[39m=\u001b[39m test_data\u001b[39m.\u001b[39medge_label\u001b[39m.\u001b[39mreshape(\u001b[39m-\u001b[39m\u001b[39m1\u001b[39m, \u001b[39m1\u001b[39m)\n",
      "File \u001b[0;32m~/anaconda3/lib/python3.9/site-packages/torch/utils/_contextlib.py:115\u001b[0m, in \u001b[0;36mcontext_decorator.<locals>.decorate_context\u001b[0;34m(*args, **kwargs)\u001b[0m\n\u001b[1;32m    112\u001b[0m \u001b[39m@functools\u001b[39m\u001b[39m.\u001b[39mwraps(func)\n\u001b[1;32m    113\u001b[0m \u001b[39mdef\u001b[39;00m \u001b[39mdecorate_context\u001b[39m(\u001b[39m*\u001b[39margs, \u001b[39m*\u001b[39m\u001b[39m*\u001b[39mkwargs):\n\u001b[1;32m    114\u001b[0m     \u001b[39mwith\u001b[39;00m ctx_factory():\n\u001b[0;32m--> 115\u001b[0m         \u001b[39mreturn\u001b[39;00m func(\u001b[39m*\u001b[39;49margs, \u001b[39m*\u001b[39;49m\u001b[39m*\u001b[39;49mkwargs)\n",
      "\u001b[1;32m/home/stannyho/Downloads/link_pre/GNN-example/examples_are_here.ipynb Cell 34\u001b[0m in \u001b[0;36mget_pred_no_grad\u001b[0;34m(data, model)\u001b[0m\n\u001b[1;32m      <a href='vscode-notebook-cell:/home/stannyho/Downloads/link_pre/GNN-example/examples_are_here.ipynb#X62sZmlsZQ%3D%3D?line=8'>9</a>\u001b[0m \u001b[39m@th\u001b[39m\u001b[39m.\u001b[39mno_grad()\n\u001b[1;32m     <a href='vscode-notebook-cell:/home/stannyho/Downloads/link_pre/GNN-example/examples_are_here.ipynb#X62sZmlsZQ%3D%3D?line=9'>10</a>\u001b[0m \u001b[39mdef\u001b[39;00m \u001b[39mget_pred_no_grad\u001b[39m(data, model):\n\u001b[1;32m     <a href='vscode-notebook-cell:/home/stannyho/Downloads/link_pre/GNN-example/examples_are_here.ipynb#X62sZmlsZQ%3D%3D?line=10'>11</a>\u001b[0m     \u001b[39mreturn\u001b[39;00m model(\n\u001b[1;32m     <a href='vscode-notebook-cell:/home/stannyho/Downloads/link_pre/GNN-example/examples_are_here.ipynb#X62sZmlsZQ%3D%3D?line=11'>12</a>\u001b[0m         x\u001b[39m=\u001b[39mdata\u001b[39m.\u001b[39mx,\n\u001b[1;32m     <a href='vscode-notebook-cell:/home/stannyho/Downloads/link_pre/GNN-example/examples_are_here.ipynb#X62sZmlsZQ%3D%3D?line=12'>13</a>\u001b[0m         edge_index\u001b[39m=\u001b[39mdata\u001b[39m.\u001b[39medge_index,\n\u001b[1;32m     <a href='vscode-notebook-cell:/home/stannyho/Downloads/link_pre/GNN-example/examples_are_here.ipynb#X62sZmlsZQ%3D%3D?line=13'>14</a>\u001b[0m         edge_attr\u001b[39m=\u001b[39mdata\u001b[39m.\u001b[39medge_attr,\n\u001b[0;32m---> <a href='vscode-notebook-cell:/home/stannyho/Downloads/link_pre/GNN-example/examples_are_here.ipynb#X62sZmlsZQ%3D%3D?line=14'>15</a>\u001b[0m         edge_label_index\u001b[39m=\u001b[39mdata\u001b[39m.\u001b[39;49medge_label_index\n\u001b[1;32m     <a href='vscode-notebook-cell:/home/stannyho/Downloads/link_pre/GNN-example/examples_are_here.ipynb#X62sZmlsZQ%3D%3D?line=15'>16</a>\u001b[0m     )\n",
      "File \u001b[0;32m~/anaconda3/lib/python3.9/site-packages/torch_geometric/data/data.py:441\u001b[0m, in \u001b[0;36mData.__getattr__\u001b[0;34m(self, key)\u001b[0m\n\u001b[1;32m    435\u001b[0m \u001b[39mif\u001b[39;00m \u001b[39m'\u001b[39m\u001b[39m_store\u001b[39m\u001b[39m'\u001b[39m \u001b[39mnot\u001b[39;00m \u001b[39min\u001b[39;00m \u001b[39mself\u001b[39m\u001b[39m.\u001b[39m\u001b[39m__dict__\u001b[39m:\n\u001b[1;32m    436\u001b[0m     \u001b[39mraise\u001b[39;00m \u001b[39mRuntimeError\u001b[39;00m(\n\u001b[1;32m    437\u001b[0m         \u001b[39m\"\u001b[39m\u001b[39mThe \u001b[39m\u001b[39m'\u001b[39m\u001b[39mdata\u001b[39m\u001b[39m'\u001b[39m\u001b[39m object was created by an older version of PyG. \u001b[39m\u001b[39m\"\u001b[39m\n\u001b[1;32m    438\u001b[0m         \u001b[39m\"\u001b[39m\u001b[39mIf this error occurred while loading an already existing \u001b[39m\u001b[39m\"\u001b[39m\n\u001b[1;32m    439\u001b[0m         \u001b[39m\"\u001b[39m\u001b[39mdataset, remove the \u001b[39m\u001b[39m'\u001b[39m\u001b[39mprocessed/\u001b[39m\u001b[39m'\u001b[39m\u001b[39m directory in the dataset\u001b[39m\u001b[39m'\u001b[39m\u001b[39ms \u001b[39m\u001b[39m\"\u001b[39m\n\u001b[1;32m    440\u001b[0m         \u001b[39m\"\u001b[39m\u001b[39mroot folder and try again.\u001b[39m\u001b[39m\"\u001b[39m)\n\u001b[0;32m--> 441\u001b[0m \u001b[39mreturn\u001b[39;00m \u001b[39mgetattr\u001b[39;49m(\u001b[39mself\u001b[39;49m\u001b[39m.\u001b[39;49m_store, key)\n",
      "File \u001b[0;32m~/anaconda3/lib/python3.9/site-packages/torch_geometric/data/storage.py:80\u001b[0m, in \u001b[0;36mBaseStorage.__getattr__\u001b[0;34m(self, key)\u001b[0m\n\u001b[1;32m     78\u001b[0m     \u001b[39mreturn\u001b[39;00m \u001b[39mself\u001b[39m[key]\n\u001b[1;32m     79\u001b[0m \u001b[39mexcept\u001b[39;00m \u001b[39mKeyError\u001b[39;00m:\n\u001b[0;32m---> 80\u001b[0m     \u001b[39mraise\u001b[39;00m \u001b[39mAttributeError\u001b[39;00m(\n\u001b[1;32m     81\u001b[0m         \u001b[39mf\u001b[39m\u001b[39m\"\u001b[39m\u001b[39m'\u001b[39m\u001b[39m{\u001b[39;00m\u001b[39mself\u001b[39m\u001b[39m.\u001b[39m\u001b[39m__class__\u001b[39m\u001b[39m.\u001b[39m\u001b[39m__name__\u001b[39m\u001b[39m}\u001b[39;00m\u001b[39m'\u001b[39m\u001b[39m object has no attribute \u001b[39m\u001b[39m'\u001b[39m\u001b[39m{\u001b[39;00mkey\u001b[39m}\u001b[39;00m\u001b[39m'\u001b[39m\u001b[39m\"\u001b[39m)\n",
      "\u001b[0;31mAttributeError\u001b[0m: 'GlobalStorage' object has no attribute 'edge_label_index'"
     ]
    }
   ],
   "source": [
    "import torch\n",
    "import pandas as pd\n",
    "\n",
    "# 載入模型\n",
    "model = torch.load('checkpoint.pt')\n",
    "\n",
    "# # 讀取CSV檔案\n",
    "# data = pd.read_csv('/home/stannyho/Downloads/link_pre/new_test_data.csv')\n",
    "\n",
    "import pandas as pd\n",
    "\n",
    "data_path = \"./new_test_data.txt\"\n",
    "\n",
    "with open(data_path, \"r\") as f:\n",
    "    all_txt_str = f.read().split(\"\\n\")\n",
    "    txt_list = [txt_str.split(\" \") for txt_str in all_txt_str[1:]]\n",
    "    edge_df = pd.DataFrame(txt_list, columns=[\"node_pair_id\",\"node1\",\"node2\"])\n",
    "\n",
    "edge_df = edge_df.dropna()\n",
    "print(edge_df)\n",
    "\n",
    "\n",
    "node_attr_ts = th.ones(len(encode)).float().reshape(-1, 1)\n",
    "edge_index_ts = th.tensor([from_list, to_list]).long()\n",
    "from torch_geometric.data import Data\n",
    "\n",
    "test_data = Data(x=node_attr_ts, edge_index=edge_index_ts, edge_attr=edge_label_ts)\n",
    "\n",
    "print(data)\n",
    "\n",
    "model = torch.load(\"checkpoint.pt\")\n",
    "model.eval()\n",
    "\n",
    "test_pred = get_pred_no_grad(test_data, model)\n",
    "test_loss = get_loss_in_eval(test_data, model)\n",
    "test_target = test_data.edge_label.reshape(-1, 1)\n",
    "test_accuracy = th.mean(((test_pred>0.5)==test_target).float())\n",
    "\n",
    "print(test_target)\n",
    "# # 進行預測\n",
    "# with torch.no_grad():\n",
    "#     y_pred_tensor = model(edge_index_ts, node_attr_ts, edge_label_ts)\n",
    "\n",
    "# # 將預測結果轉換回DataFrame\n",
    "# y_pred = pd.DataFrame(y_pred_tensor.numpy(), columns=['predicted_target'])\n",
    "\n",
    "# # 合併預測結果到原始資料中\n",
    "# result = pd.concat([data, y_pred], axis=1)\n",
    "\n",
    "# # 輸出成新的CSV檔案\n",
    "# result.to_csv('2.csv', index=False)"
   ]
  },
  {
   "cell_type": "markdown",
   "id": "40238c8f",
   "metadata": {},
   "source": []
  }
 ],
 "metadata": {
  "kernelspec": {
   "display_name": "Python 3.9.12 ('base')",
   "language": "python",
   "name": "python3"
  },
  "language_info": {
   "codemirror_mode": {
    "name": "ipython",
    "version": 3
   },
   "file_extension": ".py",
   "mimetype": "text/x-python",
   "name": "python",
   "nbconvert_exporter": "python",
   "pygments_lexer": "ipython3",
   "version": "3.9.12"
  },
  "vscode": {
   "interpreter": {
    "hash": "dfe5e6a67e624c0e9efc6cd49e39fac0cc7b99e88da9655da3569f316f7c9d43"
   }
  }
 },
 "nbformat": 4,
 "nbformat_minor": 5
}
